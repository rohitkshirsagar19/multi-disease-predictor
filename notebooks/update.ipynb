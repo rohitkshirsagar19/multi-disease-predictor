{
 "cells": [
  {
   "cell_type": "code",
   "execution_count": 7,
   "id": "8677c3a0",
   "metadata": {},
   "outputs": [
    {
     "name": "stdout",
     "output_type": "stream",
     "text": [
      "Successfully merged and saved to ../data/processed/Anemia.csv\n",
      "Successfully merged and saved to ../data/processed/Cardiovascular.csv\n",
      "Successfully merged and saved to ../data/processed/cleaned_heart.csv\n",
      "Successfully merged and saved to ../data/processed/Hepatitis_C.csv\n",
      "Successfully merged and saved to ../data/processed/lung_cancer_processed.csv\n",
      "Successfully merged and saved to ../data/processed/thyroid_cleaned_data.csv\n",
      "Successfully merged and saved to ../data/processed/processed_healthcare_data.csv\n",
      "Successfully merged and saved to ../data/processed/indian_liver_patient_processed.csv\n"
     ]
    }
   ],
   "source": [
    "import pandas as pd\n",
    "import os\n",
    "\n",
    "# Define column mappings for each disease to rename user_data columns to match processed_data columns\n",
    "column_mappings = {\n",
    "    'Anemia': {'target': 'diseased', 'PLT_mm3': 'PLT/mm3'},\n",
    "    'Cardiovascular': {'target': 'cardio'},\n",
    "    'cleaned_heart': {'target': 'HeartDisease'},\n",
    "    'Hepatitis_C': {'target': 'Category'},\n",
    "    'lung_cancer_processed': {'target': 'LUNG_CANCER'},\n",
    "    'thyroid_cleaned_data': {'target': 'Diagnosis'},\n",
    "    'processed_healthcare_data': {'target': 'stroke'},\n",
    "    'indian_liver_patient_processed': {'target': 'Dataset'}\n",
    "}\n",
    "\n",
    "def update_csv(csv_1, csv_2):\n",
    "    # Read the data\n",
    "    df1 = pd.read_csv(csv_1)\n",
    "    df2 = pd.read_csv(csv_2)\n",
    "    \n",
    "    # Extract the base filename without extension to identify the disease\n",
    "    disease = os.path.splitext(os.path.basename(csv_1))[0]\n",
    "    \n",
    "    # Get the appropriate column mapping for the disease\n",
    "    mapping = column_mappings.get(disease, {})\n",
    "    \n",
    "    # Rename columns in df2 according to the mapping\n",
    "    df2_renamed = df2.rename(columns=mapping)\n",
    "    \n",
    "    # Additional manual checks for specific column name differences not covered by the mapping\n",
    "    # Example: Anemia's 'PLT_mm3' to 'PLT/mm3' if not already handled\n",
    "    if disease == 'Anemia' and 'PLT_mm3' in df2_renamed.columns:\n",
    "        df2_renamed = df2_renamed.rename(columns={'PLT_mm3': 'PLT/mm3'})\n",
    "    \n",
    "    # Ensure both dataframes have the same columns before concatenation\n",
    "    # This will add any missing columns in df2_renamed with NaN values for existing rows in df1\n",
    "    # and vice versa, but typically user_data should match processed_data columns after renaming\n",
    "    merged_df = pd.concat([df1, df2_renamed], axis=0, ignore_index=True)\n",
    "    \n",
    "    # Save the merged dataframe back to the original processed data path\n",
    "    merged_df.to_csv(csv_1, index=False)\n",
    "    print(f\"Successfully merged and saved to {csv_1}\")\n",
    "\n",
    "if __name__ == \"__main__\":\n",
    "    # Processed data paths\n",
    "    Anemia = \"../data/processed/Anemia.csv\"\n",
    "    Cardiovascular = \"../data/processed/Cardiovascular.csv\"\n",
    "    Heart = \"../data/processed/cleaned_heart.csv\"\n",
    "    Hepatitis_C = \"../data/processed/Hepatitis_C.csv\"\n",
    "    Lung_cancer = \"../data/processed/lung_cancer_processed.csv\"\n",
    "    Thyroid = \"../data/processed/thyroid_cleaned_data.csv\"\n",
    "    Stroke = \"../data/processed/processed_healthcare_data.csv\"\n",
    "    Liver = \"../data/processed/indian_liver_patient_processed.csv\"  \n",
    "\n",
    "    # User data paths\n",
    "    Anemia_ = \"../backend/user_data/anemia.csv\"\n",
    "    Cardiovascular_ = \"../backend/user_data/cardiovascular.csv\"\n",
    "    Heart_ = \"../backend/user_data/heart.csv\"\n",
    "    Hepatitis_C_ = \"../backend/user_data/hepatitis.csv\"\n",
    "    Lung_cancer_ = \"../backend/user_data/lung_cancer.csv\"\n",
    "    Thyroid_ = \"../backend/user_data/thyroid.csv\"\n",
    "    Stroke_ = \"../backend/user_data/stroke.csv\"\n",
    "    Liver_ = \"../backend/user_data/liver.csv\"\n",
    "\n",
    "    # Update each dataset\n",
    "    update_csv(Anemia, Anemia_)\n",
    "    update_csv(Cardiovascular, Cardiovascular_)\n",
    "    update_csv(Heart, Heart_)\n",
    "    update_csv(Hepatitis_C, Hepatitis_C_)\n",
    "    update_csv(Lung_cancer, Lung_cancer_)\n",
    "    update_csv(Thyroid, Thyroid_)\n",
    "    update_csv(Stroke, Stroke_)\n",
    "    update_csv(Liver, Liver_)"
   ]
  },
  {
   "cell_type": "code",
   "execution_count": null,
   "id": "5cc78bb9",
   "metadata": {},
   "outputs": [],
   "source": []
  },
  {
   "cell_type": "code",
   "execution_count": null,
   "id": "b225e268",
   "metadata": {},
   "outputs": [],
   "source": []
  }
 ],
 "metadata": {
  "kernelspec": {
   "display_name": "Python 3",
   "language": "python",
   "name": "python3"
  },
  "language_info": {
   "codemirror_mode": {
    "name": "ipython",
    "version": 3
   },
   "file_extension": ".py",
   "mimetype": "text/x-python",
   "name": "python",
   "nbconvert_exporter": "python",
   "pygments_lexer": "ipython3",
   "version": "3.12.10"
  }
 },
 "nbformat": 4,
 "nbformat_minor": 5
}

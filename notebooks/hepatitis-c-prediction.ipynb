{
 "cells": [
  {
   "cell_type": "markdown",
   "id": "4bc5d17d",
   "metadata": {},
   "source": [
    "for reference visit https://www.kaggle.com/code/rishabhkothari103/hepatitis-c-prediction"
   ]
  },
  {
   "cell_type": "markdown",
   "id": "e8491b53",
   "metadata": {
    "papermill": {
     "duration": 0.011082,
     "end_time": "2025-03-19T12:54:59.064556",
     "exception": false,
     "start_time": "2025-03-19T12:54:59.053474",
     "status": "completed"
    },
    "tags": []
   },
   "source": [
    "# Importing necessart libraries\n"
   ]
  },
  {
   "cell_type": "code",
   "execution_count": 1,
   "id": "ac7237fc",
   "metadata": {
    "_cell_guid": "b1076dfc-b9ad-4769-8c92-a6c4dae69d19",
    "_uuid": "8f2839f25d086af736a60e9eeb907d3b93b6e0e5",
    "execution": {
     "iopub.execute_input": "2025-03-19T12:54:59.087148Z",
     "iopub.status.busy": "2025-03-19T12:54:59.086596Z",
     "iopub.status.idle": "2025-03-19T12:55:02.077066Z",
     "shell.execute_reply": "2025-03-19T12:55:02.075811Z"
    },
    "papermill": {
     "duration": 3.004282,
     "end_time": "2025-03-19T12:55:02.079354",
     "exception": false,
     "start_time": "2025-03-19T12:54:59.075072",
     "status": "completed"
    },
    "tags": []
   },
   "outputs": [],
   "source": [
    "import pandas as pd\n",
    "import matplotlib.pyplot as plt\n",
    "import seaborn as sns "
   ]
  },
  {
   "cell_type": "markdown",
   "id": "5611b0bf",
   "metadata": {
    "papermill": {
     "duration": 0.009469,
     "end_time": "2025-03-19T12:55:02.099291",
     "exception": false,
     "start_time": "2025-03-19T12:55:02.089822",
     "status": "completed"
    },
    "tags": []
   },
   "source": [
    "# Basic EDA"
   ]
  },
  {
   "cell_type": "code",
   "execution_count": 2,
   "id": "d288e32a",
   "metadata": {
    "execution": {
     "iopub.execute_input": "2025-03-19T12:55:02.120351Z",
     "iopub.status.busy": "2025-03-19T12:55:02.119799Z",
     "iopub.status.idle": "2025-03-19T12:55:02.151469Z",
     "shell.execute_reply": "2025-03-19T12:55:02.150270Z"
    },
    "papermill": {
     "duration": 0.044624,
     "end_time": "2025-03-19T12:55:02.153634",
     "exception": false,
     "start_time": "2025-03-19T12:55:02.109010",
     "status": "completed"
    },
    "tags": []
   },
   "outputs": [],
   "source": [
    "df=pd.read_csv(\"/kaggle/input/hepatitis-c-dataset/HepatitisCdata.csv\")"
   ]
  },
  {
   "cell_type": "code",
   "execution_count": 3,
   "id": "e46deaa1",
   "metadata": {
    "execution": {
     "iopub.execute_input": "2025-03-19T12:55:02.175116Z",
     "iopub.status.busy": "2025-03-19T12:55:02.174744Z",
     "iopub.status.idle": "2025-03-19T12:55:02.212850Z",
     "shell.execute_reply": "2025-03-19T12:55:02.211153Z"
    },
    "papermill": {
     "duration": 0.051314,
     "end_time": "2025-03-19T12:55:02.215135",
     "exception": false,
     "start_time": "2025-03-19T12:55:02.163821",
     "status": "completed"
    },
    "tags": []
   },
   "outputs": [
    {
     "data": {
      "text/html": [
       "<div>\n",
       "<style scoped>\n",
       "    .dataframe tbody tr th:only-of-type {\n",
       "        vertical-align: middle;\n",
       "    }\n",
       "\n",
       "    .dataframe tbody tr th {\n",
       "        vertical-align: top;\n",
       "    }\n",
       "\n",
       "    .dataframe thead th {\n",
       "        text-align: right;\n",
       "    }\n",
       "</style>\n",
       "<table border=\"1\" class=\"dataframe\">\n",
       "  <thead>\n",
       "    <tr style=\"text-align: right;\">\n",
       "      <th></th>\n",
       "      <th>Unnamed: 0</th>\n",
       "      <th>Category</th>\n",
       "      <th>Age</th>\n",
       "      <th>Sex</th>\n",
       "      <th>ALB</th>\n",
       "      <th>ALP</th>\n",
       "      <th>ALT</th>\n",
       "      <th>AST</th>\n",
       "      <th>BIL</th>\n",
       "      <th>CHE</th>\n",
       "      <th>CHOL</th>\n",
       "      <th>CREA</th>\n",
       "      <th>GGT</th>\n",
       "      <th>PROT</th>\n",
       "    </tr>\n",
       "  </thead>\n",
       "  <tbody>\n",
       "    <tr>\n",
       "      <th>0</th>\n",
       "      <td>1</td>\n",
       "      <td>0=Blood Donor</td>\n",
       "      <td>32</td>\n",
       "      <td>m</td>\n",
       "      <td>38.5</td>\n",
       "      <td>52.5</td>\n",
       "      <td>7.7</td>\n",
       "      <td>22.1</td>\n",
       "      <td>7.5</td>\n",
       "      <td>6.93</td>\n",
       "      <td>3.23</td>\n",
       "      <td>106.0</td>\n",
       "      <td>12.1</td>\n",
       "      <td>69.0</td>\n",
       "    </tr>\n",
       "    <tr>\n",
       "      <th>1</th>\n",
       "      <td>2</td>\n",
       "      <td>0=Blood Donor</td>\n",
       "      <td>32</td>\n",
       "      <td>m</td>\n",
       "      <td>38.5</td>\n",
       "      <td>70.3</td>\n",
       "      <td>18.0</td>\n",
       "      <td>24.7</td>\n",
       "      <td>3.9</td>\n",
       "      <td>11.17</td>\n",
       "      <td>4.80</td>\n",
       "      <td>74.0</td>\n",
       "      <td>15.6</td>\n",
       "      <td>76.5</td>\n",
       "    </tr>\n",
       "    <tr>\n",
       "      <th>2</th>\n",
       "      <td>3</td>\n",
       "      <td>0=Blood Donor</td>\n",
       "      <td>32</td>\n",
       "      <td>m</td>\n",
       "      <td>46.9</td>\n",
       "      <td>74.7</td>\n",
       "      <td>36.2</td>\n",
       "      <td>52.6</td>\n",
       "      <td>6.1</td>\n",
       "      <td>8.84</td>\n",
       "      <td>5.20</td>\n",
       "      <td>86.0</td>\n",
       "      <td>33.2</td>\n",
       "      <td>79.3</td>\n",
       "    </tr>\n",
       "    <tr>\n",
       "      <th>3</th>\n",
       "      <td>4</td>\n",
       "      <td>0=Blood Donor</td>\n",
       "      <td>32</td>\n",
       "      <td>m</td>\n",
       "      <td>43.2</td>\n",
       "      <td>52.0</td>\n",
       "      <td>30.6</td>\n",
       "      <td>22.6</td>\n",
       "      <td>18.9</td>\n",
       "      <td>7.33</td>\n",
       "      <td>4.74</td>\n",
       "      <td>80.0</td>\n",
       "      <td>33.8</td>\n",
       "      <td>75.7</td>\n",
       "    </tr>\n",
       "    <tr>\n",
       "      <th>4</th>\n",
       "      <td>5</td>\n",
       "      <td>0=Blood Donor</td>\n",
       "      <td>32</td>\n",
       "      <td>m</td>\n",
       "      <td>39.2</td>\n",
       "      <td>74.1</td>\n",
       "      <td>32.6</td>\n",
       "      <td>24.8</td>\n",
       "      <td>9.6</td>\n",
       "      <td>9.15</td>\n",
       "      <td>4.32</td>\n",
       "      <td>76.0</td>\n",
       "      <td>29.9</td>\n",
       "      <td>68.7</td>\n",
       "    </tr>\n",
       "  </tbody>\n",
       "</table>\n",
       "</div>"
      ],
      "text/plain": [
       "   Unnamed: 0       Category  Age Sex   ALB   ALP   ALT   AST   BIL    CHE  \\\n",
       "0           1  0=Blood Donor   32   m  38.5  52.5   7.7  22.1   7.5   6.93   \n",
       "1           2  0=Blood Donor   32   m  38.5  70.3  18.0  24.7   3.9  11.17   \n",
       "2           3  0=Blood Donor   32   m  46.9  74.7  36.2  52.6   6.1   8.84   \n",
       "3           4  0=Blood Donor   32   m  43.2  52.0  30.6  22.6  18.9   7.33   \n",
       "4           5  0=Blood Donor   32   m  39.2  74.1  32.6  24.8   9.6   9.15   \n",
       "\n",
       "   CHOL   CREA   GGT  PROT  \n",
       "0  3.23  106.0  12.1  69.0  \n",
       "1  4.80   74.0  15.6  76.5  \n",
       "2  5.20   86.0  33.2  79.3  \n",
       "3  4.74   80.0  33.8  75.7  \n",
       "4  4.32   76.0  29.9  68.7  "
      ]
     },
     "execution_count": 3,
     "metadata": {},
     "output_type": "execute_result"
    }
   ],
   "source": [
    "df.head(5)"
   ]
  },
  {
   "cell_type": "code",
   "execution_count": 4,
   "id": "faa32116",
   "metadata": {
    "execution": {
     "iopub.execute_input": "2025-03-19T12:55:02.237729Z",
     "iopub.status.busy": "2025-03-19T12:55:02.237320Z",
     "iopub.status.idle": "2025-03-19T12:55:02.244035Z",
     "shell.execute_reply": "2025-03-19T12:55:02.242829Z"
    },
    "papermill": {
     "duration": 0.019975,
     "end_time": "2025-03-19T12:55:02.246031",
     "exception": false,
     "start_time": "2025-03-19T12:55:02.226056",
     "status": "completed"
    },
    "tags": []
   },
   "outputs": [
    {
     "data": {
      "text/plain": [
       "(615, 14)"
      ]
     },
     "execution_count": 4,
     "metadata": {},
     "output_type": "execute_result"
    }
   ],
   "source": [
    "df.shape"
   ]
  },
  {
   "cell_type": "code",
   "execution_count": 5,
   "id": "35ab0b91",
   "metadata": {
    "execution": {
     "iopub.execute_input": "2025-03-19T12:55:02.268313Z",
     "iopub.status.busy": "2025-03-19T12:55:02.267914Z",
     "iopub.status.idle": "2025-03-19T12:55:02.297297Z",
     "shell.execute_reply": "2025-03-19T12:55:02.295433Z"
    },
    "papermill": {
     "duration": 0.042974,
     "end_time": "2025-03-19T12:55:02.299548",
     "exception": false,
     "start_time": "2025-03-19T12:55:02.256574",
     "status": "completed"
    },
    "tags": []
   },
   "outputs": [
    {
     "name": "stdout",
     "output_type": "stream",
     "text": [
      "<class 'pandas.core.frame.DataFrame'>\n",
      "RangeIndex: 615 entries, 0 to 614\n",
      "Data columns (total 14 columns):\n",
      " #   Column      Non-Null Count  Dtype  \n",
      "---  ------      --------------  -----  \n",
      " 0   Unnamed: 0  615 non-null    int64  \n",
      " 1   Category    615 non-null    object \n",
      " 2   Age         615 non-null    int64  \n",
      " 3   Sex         615 non-null    object \n",
      " 4   ALB         614 non-null    float64\n",
      " 5   ALP         597 non-null    float64\n",
      " 6   ALT         614 non-null    float64\n",
      " 7   AST         615 non-null    float64\n",
      " 8   BIL         615 non-null    float64\n",
      " 9   CHE         615 non-null    float64\n",
      " 10  CHOL        605 non-null    float64\n",
      " 11  CREA        615 non-null    float64\n",
      " 12  GGT         615 non-null    float64\n",
      " 13  PROT        614 non-null    float64\n",
      "dtypes: float64(10), int64(2), object(2)\n",
      "memory usage: 67.4+ KB\n"
     ]
    }
   ],
   "source": [
    "df.info()"
   ]
  },
  {
   "cell_type": "code",
   "execution_count": 6,
   "id": "7dc70a48",
   "metadata": {
    "execution": {
     "iopub.execute_input": "2025-03-19T12:55:02.324636Z",
     "iopub.status.busy": "2025-03-19T12:55:02.324255Z",
     "iopub.status.idle": "2025-03-19T12:55:02.370987Z",
     "shell.execute_reply": "2025-03-19T12:55:02.369595Z"
    },
    "papermill": {
     "duration": 0.063008,
     "end_time": "2025-03-19T12:55:02.373051",
     "exception": false,
     "start_time": "2025-03-19T12:55:02.310043",
     "status": "completed"
    },
    "tags": []
   },
   "outputs": [
    {
     "data": {
      "text/html": [
       "<div>\n",
       "<style scoped>\n",
       "    .dataframe tbody tr th:only-of-type {\n",
       "        vertical-align: middle;\n",
       "    }\n",
       "\n",
       "    .dataframe tbody tr th {\n",
       "        vertical-align: top;\n",
       "    }\n",
       "\n",
       "    .dataframe thead th {\n",
       "        text-align: right;\n",
       "    }\n",
       "</style>\n",
       "<table border=\"1\" class=\"dataframe\">\n",
       "  <thead>\n",
       "    <tr style=\"text-align: right;\">\n",
       "      <th></th>\n",
       "      <th>Unnamed: 0</th>\n",
       "      <th>Age</th>\n",
       "      <th>ALB</th>\n",
       "      <th>ALP</th>\n",
       "      <th>ALT</th>\n",
       "      <th>AST</th>\n",
       "      <th>BIL</th>\n",
       "      <th>CHE</th>\n",
       "      <th>CHOL</th>\n",
       "      <th>CREA</th>\n",
       "      <th>GGT</th>\n",
       "      <th>PROT</th>\n",
       "    </tr>\n",
       "  </thead>\n",
       "  <tbody>\n",
       "    <tr>\n",
       "      <th>count</th>\n",
       "      <td>615.000000</td>\n",
       "      <td>615.000000</td>\n",
       "      <td>614.000000</td>\n",
       "      <td>597.000000</td>\n",
       "      <td>614.000000</td>\n",
       "      <td>615.000000</td>\n",
       "      <td>615.000000</td>\n",
       "      <td>615.000000</td>\n",
       "      <td>605.000000</td>\n",
       "      <td>615.000000</td>\n",
       "      <td>615.000000</td>\n",
       "      <td>614.000000</td>\n",
       "    </tr>\n",
       "    <tr>\n",
       "      <th>mean</th>\n",
       "      <td>308.000000</td>\n",
       "      <td>47.408130</td>\n",
       "      <td>41.620195</td>\n",
       "      <td>68.283920</td>\n",
       "      <td>28.450814</td>\n",
       "      <td>34.786341</td>\n",
       "      <td>11.396748</td>\n",
       "      <td>8.196634</td>\n",
       "      <td>5.368099</td>\n",
       "      <td>81.287805</td>\n",
       "      <td>39.533171</td>\n",
       "      <td>72.044137</td>\n",
       "    </tr>\n",
       "    <tr>\n",
       "      <th>std</th>\n",
       "      <td>177.679487</td>\n",
       "      <td>10.055105</td>\n",
       "      <td>5.780629</td>\n",
       "      <td>26.028315</td>\n",
       "      <td>25.469689</td>\n",
       "      <td>33.090690</td>\n",
       "      <td>19.673150</td>\n",
       "      <td>2.205657</td>\n",
       "      <td>1.132728</td>\n",
       "      <td>49.756166</td>\n",
       "      <td>54.661071</td>\n",
       "      <td>5.402636</td>\n",
       "    </tr>\n",
       "    <tr>\n",
       "      <th>min</th>\n",
       "      <td>1.000000</td>\n",
       "      <td>19.000000</td>\n",
       "      <td>14.900000</td>\n",
       "      <td>11.300000</td>\n",
       "      <td>0.900000</td>\n",
       "      <td>10.600000</td>\n",
       "      <td>0.800000</td>\n",
       "      <td>1.420000</td>\n",
       "      <td>1.430000</td>\n",
       "      <td>8.000000</td>\n",
       "      <td>4.500000</td>\n",
       "      <td>44.800000</td>\n",
       "    </tr>\n",
       "    <tr>\n",
       "      <th>25%</th>\n",
       "      <td>154.500000</td>\n",
       "      <td>39.000000</td>\n",
       "      <td>38.800000</td>\n",
       "      <td>52.500000</td>\n",
       "      <td>16.400000</td>\n",
       "      <td>21.600000</td>\n",
       "      <td>5.300000</td>\n",
       "      <td>6.935000</td>\n",
       "      <td>4.610000</td>\n",
       "      <td>67.000000</td>\n",
       "      <td>15.700000</td>\n",
       "      <td>69.300000</td>\n",
       "    </tr>\n",
       "    <tr>\n",
       "      <th>50%</th>\n",
       "      <td>308.000000</td>\n",
       "      <td>47.000000</td>\n",
       "      <td>41.950000</td>\n",
       "      <td>66.200000</td>\n",
       "      <td>23.000000</td>\n",
       "      <td>25.900000</td>\n",
       "      <td>7.300000</td>\n",
       "      <td>8.260000</td>\n",
       "      <td>5.300000</td>\n",
       "      <td>77.000000</td>\n",
       "      <td>23.300000</td>\n",
       "      <td>72.200000</td>\n",
       "    </tr>\n",
       "    <tr>\n",
       "      <th>75%</th>\n",
       "      <td>461.500000</td>\n",
       "      <td>54.000000</td>\n",
       "      <td>45.200000</td>\n",
       "      <td>80.100000</td>\n",
       "      <td>33.075000</td>\n",
       "      <td>32.900000</td>\n",
       "      <td>11.200000</td>\n",
       "      <td>9.590000</td>\n",
       "      <td>6.060000</td>\n",
       "      <td>88.000000</td>\n",
       "      <td>40.200000</td>\n",
       "      <td>75.400000</td>\n",
       "    </tr>\n",
       "    <tr>\n",
       "      <th>max</th>\n",
       "      <td>615.000000</td>\n",
       "      <td>77.000000</td>\n",
       "      <td>82.200000</td>\n",
       "      <td>416.600000</td>\n",
       "      <td>325.300000</td>\n",
       "      <td>324.000000</td>\n",
       "      <td>254.000000</td>\n",
       "      <td>16.410000</td>\n",
       "      <td>9.670000</td>\n",
       "      <td>1079.100000</td>\n",
       "      <td>650.900000</td>\n",
       "      <td>90.000000</td>\n",
       "    </tr>\n",
       "  </tbody>\n",
       "</table>\n",
       "</div>"
      ],
      "text/plain": [
       "       Unnamed: 0         Age         ALB         ALP         ALT         AST  \\\n",
       "count  615.000000  615.000000  614.000000  597.000000  614.000000  615.000000   \n",
       "mean   308.000000   47.408130   41.620195   68.283920   28.450814   34.786341   \n",
       "std    177.679487   10.055105    5.780629   26.028315   25.469689   33.090690   \n",
       "min      1.000000   19.000000   14.900000   11.300000    0.900000   10.600000   \n",
       "25%    154.500000   39.000000   38.800000   52.500000   16.400000   21.600000   \n",
       "50%    308.000000   47.000000   41.950000   66.200000   23.000000   25.900000   \n",
       "75%    461.500000   54.000000   45.200000   80.100000   33.075000   32.900000   \n",
       "max    615.000000   77.000000   82.200000  416.600000  325.300000  324.000000   \n",
       "\n",
       "              BIL         CHE        CHOL         CREA         GGT        PROT  \n",
       "count  615.000000  615.000000  605.000000   615.000000  615.000000  614.000000  \n",
       "mean    11.396748    8.196634    5.368099    81.287805   39.533171   72.044137  \n",
       "std     19.673150    2.205657    1.132728    49.756166   54.661071    5.402636  \n",
       "min      0.800000    1.420000    1.430000     8.000000    4.500000   44.800000  \n",
       "25%      5.300000    6.935000    4.610000    67.000000   15.700000   69.300000  \n",
       "50%      7.300000    8.260000    5.300000    77.000000   23.300000   72.200000  \n",
       "75%     11.200000    9.590000    6.060000    88.000000   40.200000   75.400000  \n",
       "max    254.000000   16.410000    9.670000  1079.100000  650.900000   90.000000  "
      ]
     },
     "execution_count": 6,
     "metadata": {},
     "output_type": "execute_result"
    }
   ],
   "source": [
    "df.describe()"
   ]
  },
  {
   "cell_type": "code",
   "execution_count": 7,
   "id": "937d7fe8",
   "metadata": {
    "execution": {
     "iopub.execute_input": "2025-03-19T12:55:02.396418Z",
     "iopub.status.busy": "2025-03-19T12:55:02.395974Z",
     "iopub.status.idle": "2025-03-19T12:55:02.404940Z",
     "shell.execute_reply": "2025-03-19T12:55:02.403552Z"
    },
    "papermill": {
     "duration": 0.022588,
     "end_time": "2025-03-19T12:55:02.406788",
     "exception": false,
     "start_time": "2025-03-19T12:55:02.384200",
     "status": "completed"
    },
    "tags": []
   },
   "outputs": [
    {
     "data": {
      "text/plain": [
       "Unnamed: 0     0\n",
       "Category       0\n",
       "Age            0\n",
       "Sex            0\n",
       "ALB            1\n",
       "ALP           18\n",
       "ALT            1\n",
       "AST            0\n",
       "BIL            0\n",
       "CHE            0\n",
       "CHOL          10\n",
       "CREA           0\n",
       "GGT            0\n",
       "PROT           1\n",
       "dtype: int64"
      ]
     },
     "execution_count": 7,
     "metadata": {},
     "output_type": "execute_result"
    }
   ],
   "source": [
    "df.isna().sum()"
   ]
  },
  {
   "cell_type": "code",
   "execution_count": 8,
   "id": "28bff3d0",
   "metadata": {
    "execution": {
     "iopub.execute_input": "2025-03-19T12:55:02.431652Z",
     "iopub.status.busy": "2025-03-19T12:55:02.431252Z",
     "iopub.status.idle": "2025-03-19T12:55:02.444594Z",
     "shell.execute_reply": "2025-03-19T12:55:02.443430Z"
    },
    "papermill": {
     "duration": 0.028729,
     "end_time": "2025-03-19T12:55:02.446639",
     "exception": false,
     "start_time": "2025-03-19T12:55:02.417910",
     "status": "completed"
    },
    "tags": []
   },
   "outputs": [
    {
     "data": {
      "text/plain": [
       "Unnamed: 0    0\n",
       "Category      0\n",
       "Age           0\n",
       "Sex           0\n",
       "ALB           0\n",
       "ALP           0\n",
       "ALT           0\n",
       "AST           0\n",
       "BIL           0\n",
       "CHE           0\n",
       "CHOL          0\n",
       "CREA          0\n",
       "GGT           0\n",
       "PROT          0\n",
       "dtype: int64"
      ]
     },
     "execution_count": 8,
     "metadata": {},
     "output_type": "execute_result"
    }
   ],
   "source": [
    "df=df.dropna()\n",
    "df.isna().sum()"
   ]
  },
  {
   "cell_type": "code",
   "execution_count": 9,
   "id": "84cface4",
   "metadata": {
    "execution": {
     "iopub.execute_input": "2025-03-19T12:55:02.471073Z",
     "iopub.status.busy": "2025-03-19T12:55:02.470696Z",
     "iopub.status.idle": "2025-03-19T12:55:02.477070Z",
     "shell.execute_reply": "2025-03-19T12:55:02.475974Z"
    },
    "papermill": {
     "duration": 0.020342,
     "end_time": "2025-03-19T12:55:02.479009",
     "exception": false,
     "start_time": "2025-03-19T12:55:02.458667",
     "status": "completed"
    },
    "tags": []
   },
   "outputs": [
    {
     "data": {
      "text/plain": [
       "(589, 14)"
      ]
     },
     "execution_count": 9,
     "metadata": {},
     "output_type": "execute_result"
    }
   ],
   "source": [
    "df.shape"
   ]
  },
  {
   "cell_type": "code",
   "execution_count": 10,
   "id": "bc509af1",
   "metadata": {
    "execution": {
     "iopub.execute_input": "2025-03-19T12:55:02.502880Z",
     "iopub.status.busy": "2025-03-19T12:55:02.502488Z",
     "iopub.status.idle": "2025-03-19T12:55:02.522256Z",
     "shell.execute_reply": "2025-03-19T12:55:02.520762Z"
    },
    "papermill": {
     "duration": 0.034418,
     "end_time": "2025-03-19T12:55:02.524686",
     "exception": false,
     "start_time": "2025-03-19T12:55:02.490268",
     "status": "completed"
    },
    "tags": []
   },
   "outputs": [
    {
     "data": {
      "text/html": [
       "<div>\n",
       "<style scoped>\n",
       "    .dataframe tbody tr th:only-of-type {\n",
       "        vertical-align: middle;\n",
       "    }\n",
       "\n",
       "    .dataframe tbody tr th {\n",
       "        vertical-align: top;\n",
       "    }\n",
       "\n",
       "    .dataframe thead th {\n",
       "        text-align: right;\n",
       "    }\n",
       "</style>\n",
       "<table border=\"1\" class=\"dataframe\">\n",
       "  <thead>\n",
       "    <tr style=\"text-align: right;\">\n",
       "      <th></th>\n",
       "      <th>Unnamed: 0</th>\n",
       "      <th>Category</th>\n",
       "      <th>Age</th>\n",
       "      <th>Sex</th>\n",
       "      <th>ALB</th>\n",
       "      <th>ALP</th>\n",
       "      <th>ALT</th>\n",
       "      <th>AST</th>\n",
       "      <th>BIL</th>\n",
       "      <th>CHE</th>\n",
       "      <th>CHOL</th>\n",
       "      <th>CREA</th>\n",
       "      <th>GGT</th>\n",
       "      <th>PROT</th>\n",
       "    </tr>\n",
       "  </thead>\n",
       "  <tbody>\n",
       "    <tr>\n",
       "      <th>0</th>\n",
       "      <td>1</td>\n",
       "      <td>0=Blood Donor</td>\n",
       "      <td>32</td>\n",
       "      <td>m</td>\n",
       "      <td>38.5</td>\n",
       "      <td>52.5</td>\n",
       "      <td>7.7</td>\n",
       "      <td>22.1</td>\n",
       "      <td>7.5</td>\n",
       "      <td>6.93</td>\n",
       "      <td>3.23</td>\n",
       "      <td>106.0</td>\n",
       "      <td>12.1</td>\n",
       "      <td>69.0</td>\n",
       "    </tr>\n",
       "    <tr>\n",
       "      <th>1</th>\n",
       "      <td>2</td>\n",
       "      <td>0=Blood Donor</td>\n",
       "      <td>32</td>\n",
       "      <td>m</td>\n",
       "      <td>38.5</td>\n",
       "      <td>70.3</td>\n",
       "      <td>18.0</td>\n",
       "      <td>24.7</td>\n",
       "      <td>3.9</td>\n",
       "      <td>11.17</td>\n",
       "      <td>4.80</td>\n",
       "      <td>74.0</td>\n",
       "      <td>15.6</td>\n",
       "      <td>76.5</td>\n",
       "    </tr>\n",
       "    <tr>\n",
       "      <th>2</th>\n",
       "      <td>3</td>\n",
       "      <td>0=Blood Donor</td>\n",
       "      <td>32</td>\n",
       "      <td>m</td>\n",
       "      <td>46.9</td>\n",
       "      <td>74.7</td>\n",
       "      <td>36.2</td>\n",
       "      <td>52.6</td>\n",
       "      <td>6.1</td>\n",
       "      <td>8.84</td>\n",
       "      <td>5.20</td>\n",
       "      <td>86.0</td>\n",
       "      <td>33.2</td>\n",
       "      <td>79.3</td>\n",
       "    </tr>\n",
       "    <tr>\n",
       "      <th>3</th>\n",
       "      <td>4</td>\n",
       "      <td>0=Blood Donor</td>\n",
       "      <td>32</td>\n",
       "      <td>m</td>\n",
       "      <td>43.2</td>\n",
       "      <td>52.0</td>\n",
       "      <td>30.6</td>\n",
       "      <td>22.6</td>\n",
       "      <td>18.9</td>\n",
       "      <td>7.33</td>\n",
       "      <td>4.74</td>\n",
       "      <td>80.0</td>\n",
       "      <td>33.8</td>\n",
       "      <td>75.7</td>\n",
       "    </tr>\n",
       "    <tr>\n",
       "      <th>4</th>\n",
       "      <td>5</td>\n",
       "      <td>0=Blood Donor</td>\n",
       "      <td>32</td>\n",
       "      <td>m</td>\n",
       "      <td>39.2</td>\n",
       "      <td>74.1</td>\n",
       "      <td>32.6</td>\n",
       "      <td>24.8</td>\n",
       "      <td>9.6</td>\n",
       "      <td>9.15</td>\n",
       "      <td>4.32</td>\n",
       "      <td>76.0</td>\n",
       "      <td>29.9</td>\n",
       "      <td>68.7</td>\n",
       "    </tr>\n",
       "  </tbody>\n",
       "</table>\n",
       "</div>"
      ],
      "text/plain": [
       "   Unnamed: 0       Category  Age Sex   ALB   ALP   ALT   AST   BIL    CHE  \\\n",
       "0           1  0=Blood Donor   32   m  38.5  52.5   7.7  22.1   7.5   6.93   \n",
       "1           2  0=Blood Donor   32   m  38.5  70.3  18.0  24.7   3.9  11.17   \n",
       "2           3  0=Blood Donor   32   m  46.9  74.7  36.2  52.6   6.1   8.84   \n",
       "3           4  0=Blood Donor   32   m  43.2  52.0  30.6  22.6  18.9   7.33   \n",
       "4           5  0=Blood Donor   32   m  39.2  74.1  32.6  24.8   9.6   9.15   \n",
       "\n",
       "   CHOL   CREA   GGT  PROT  \n",
       "0  3.23  106.0  12.1  69.0  \n",
       "1  4.80   74.0  15.6  76.5  \n",
       "2  5.20   86.0  33.2  79.3  \n",
       "3  4.74   80.0  33.8  75.7  \n",
       "4  4.32   76.0  29.9  68.7  "
      ]
     },
     "execution_count": 10,
     "metadata": {},
     "output_type": "execute_result"
    }
   ],
   "source": [
    "df.head(5)"
   ]
  },
  {
   "cell_type": "code",
   "execution_count": 11,
   "id": "b73ec0d6",
   "metadata": {
    "execution": {
     "iopub.execute_input": "2025-03-19T12:55:02.549325Z",
     "iopub.status.busy": "2025-03-19T12:55:02.548871Z",
     "iopub.status.idle": "2025-03-19T12:55:02.557801Z",
     "shell.execute_reply": "2025-03-19T12:55:02.556272Z"
    },
    "papermill": {
     "duration": 0.023505,
     "end_time": "2025-03-19T12:55:02.559892",
     "exception": false,
     "start_time": "2025-03-19T12:55:02.536387",
     "status": "completed"
    },
    "tags": []
   },
   "outputs": [],
   "source": [
    "df.drop('Unnamed: 0',axis=1,inplace=True)"
   ]
  },
  {
   "cell_type": "code",
   "execution_count": 12,
   "id": "c055a49b",
   "metadata": {
    "execution": {
     "iopub.execute_input": "2025-03-19T12:55:02.583468Z",
     "iopub.status.busy": "2025-03-19T12:55:02.583020Z",
     "iopub.status.idle": "2025-03-19T12:55:02.604145Z",
     "shell.execute_reply": "2025-03-19T12:55:02.602584Z"
    },
    "papermill": {
     "duration": 0.036054,
     "end_time": "2025-03-19T12:55:02.607125",
     "exception": false,
     "start_time": "2025-03-19T12:55:02.571071",
     "status": "completed"
    },
    "tags": []
   },
   "outputs": [
    {
     "data": {
      "text/html": [
       "<div>\n",
       "<style scoped>\n",
       "    .dataframe tbody tr th:only-of-type {\n",
       "        vertical-align: middle;\n",
       "    }\n",
       "\n",
       "    .dataframe tbody tr th {\n",
       "        vertical-align: top;\n",
       "    }\n",
       "\n",
       "    .dataframe thead th {\n",
       "        text-align: right;\n",
       "    }\n",
       "</style>\n",
       "<table border=\"1\" class=\"dataframe\">\n",
       "  <thead>\n",
       "    <tr style=\"text-align: right;\">\n",
       "      <th></th>\n",
       "      <th>Category</th>\n",
       "      <th>Age</th>\n",
       "      <th>Sex</th>\n",
       "      <th>ALB</th>\n",
       "      <th>ALP</th>\n",
       "      <th>ALT</th>\n",
       "      <th>AST</th>\n",
       "      <th>BIL</th>\n",
       "      <th>CHE</th>\n",
       "      <th>CHOL</th>\n",
       "      <th>CREA</th>\n",
       "      <th>GGT</th>\n",
       "      <th>PROT</th>\n",
       "    </tr>\n",
       "  </thead>\n",
       "  <tbody>\n",
       "    <tr>\n",
       "      <th>0</th>\n",
       "      <td>0=Blood Donor</td>\n",
       "      <td>32</td>\n",
       "      <td>m</td>\n",
       "      <td>38.5</td>\n",
       "      <td>52.5</td>\n",
       "      <td>7.7</td>\n",
       "      <td>22.1</td>\n",
       "      <td>7.5</td>\n",
       "      <td>6.93</td>\n",
       "      <td>3.23</td>\n",
       "      <td>106.0</td>\n",
       "      <td>12.1</td>\n",
       "      <td>69.0</td>\n",
       "    </tr>\n",
       "    <tr>\n",
       "      <th>1</th>\n",
       "      <td>0=Blood Donor</td>\n",
       "      <td>32</td>\n",
       "      <td>m</td>\n",
       "      <td>38.5</td>\n",
       "      <td>70.3</td>\n",
       "      <td>18.0</td>\n",
       "      <td>24.7</td>\n",
       "      <td>3.9</td>\n",
       "      <td>11.17</td>\n",
       "      <td>4.80</td>\n",
       "      <td>74.0</td>\n",
       "      <td>15.6</td>\n",
       "      <td>76.5</td>\n",
       "    </tr>\n",
       "  </tbody>\n",
       "</table>\n",
       "</div>"
      ],
      "text/plain": [
       "        Category  Age Sex   ALB   ALP   ALT   AST  BIL    CHE  CHOL   CREA  \\\n",
       "0  0=Blood Donor   32   m  38.5  52.5   7.7  22.1  7.5   6.93  3.23  106.0   \n",
       "1  0=Blood Donor   32   m  38.5  70.3  18.0  24.7  3.9  11.17  4.80   74.0   \n",
       "\n",
       "    GGT  PROT  \n",
       "0  12.1  69.0  \n",
       "1  15.6  76.5  "
      ]
     },
     "execution_count": 12,
     "metadata": {},
     "output_type": "execute_result"
    }
   ],
   "source": [
    "df.head(2)"
   ]
  },
  {
   "cell_type": "markdown",
   "id": "4b399382",
   "metadata": {
    "papermill": {
     "duration": 0.011188,
     "end_time": "2025-03-19T12:55:02.630509",
     "exception": false,
     "start_time": "2025-03-19T12:55:02.619321",
     "status": "completed"
    },
    "tags": []
   },
   "source": [
    "Mapping appropriate values"
   ]
  },
  {
   "cell_type": "code",
   "execution_count": 13,
   "id": "94858b87",
   "metadata": {
    "execution": {
     "iopub.execute_input": "2025-03-19T12:55:02.655538Z",
     "iopub.status.busy": "2025-03-19T12:55:02.655058Z",
     "iopub.status.idle": "2025-03-19T12:55:02.664561Z",
     "shell.execute_reply": "2025-03-19T12:55:02.662707Z"
    },
    "papermill": {
     "duration": 0.025042,
     "end_time": "2025-03-19T12:55:02.667122",
     "exception": false,
     "start_time": "2025-03-19T12:55:02.642080",
     "status": "completed"
    },
    "tags": []
   },
   "outputs": [
    {
     "name": "stderr",
     "output_type": "stream",
     "text": [
      "<ipython-input-13-ea3eaeff15b1>:1: FutureWarning: A value is trying to be set on a copy of a DataFrame or Series through chained assignment using an inplace method.\n",
      "The behavior will change in pandas 3.0. This inplace method will never work because the intermediate object on which we are setting values always behaves as a copy.\n",
      "\n",
      "For example, when doing 'df[col].method(value, inplace=True)', try using 'df.method({col: value}, inplace=True)' or df[col] = df[col].method(value) instead, to perform the operation inplace on the original object.\n",
      "\n",
      "\n",
      "  df.Sex.replace(('m','f'),(0,1),inplace=True)\n",
      "<ipython-input-13-ea3eaeff15b1>:1: FutureWarning: Downcasting behavior in `replace` is deprecated and will be removed in a future version. To retain the old behavior, explicitly call `result.infer_objects(copy=False)`. To opt-in to the future behavior, set `pd.set_option('future.no_silent_downcasting', True)`\n",
      "  df.Sex.replace(('m','f'),(0,1),inplace=True)\n"
     ]
    }
   ],
   "source": [
    "df.Sex.replace(('m','f'),(0,1),inplace=True)"
   ]
  },
  {
   "cell_type": "code",
   "execution_count": 14,
   "id": "0824ca45",
   "metadata": {
    "execution": {
     "iopub.execute_input": "2025-03-19T12:55:02.692992Z",
     "iopub.status.busy": "2025-03-19T12:55:02.692417Z",
     "iopub.status.idle": "2025-03-19T12:55:02.703978Z",
     "shell.execute_reply": "2025-03-19T12:55:02.702226Z"
    },
    "papermill": {
     "duration": 0.027418,
     "end_time": "2025-03-19T12:55:02.706966",
     "exception": false,
     "start_time": "2025-03-19T12:55:02.679548",
     "status": "completed"
    },
    "tags": []
   },
   "outputs": [
    {
     "data": {
      "text/plain": [
       "Category\n",
       "0=Blood Donor             526\n",
       "3=Cirrhosis                24\n",
       "1=Hepatitis                20\n",
       "2=Fibrosis                 12\n",
       "0s=suspect Blood Donor      7\n",
       "Name: count, dtype: int64"
      ]
     },
     "execution_count": 14,
     "metadata": {},
     "output_type": "execute_result"
    }
   ],
   "source": [
    "df['Category'].value_counts()"
   ]
  },
  {
   "cell_type": "code",
   "execution_count": 15,
   "id": "114e271d",
   "metadata": {
    "execution": {
     "iopub.execute_input": "2025-03-19T12:55:02.733884Z",
     "iopub.status.busy": "2025-03-19T12:55:02.733474Z",
     "iopub.status.idle": "2025-03-19T12:55:02.739618Z",
     "shell.execute_reply": "2025-03-19T12:55:02.738388Z"
    },
    "papermill": {
     "duration": 0.021124,
     "end_time": "2025-03-19T12:55:02.741622",
     "exception": false,
     "start_time": "2025-03-19T12:55:02.720498",
     "status": "completed"
    },
    "tags": []
   },
   "outputs": [],
   "source": [
    "df['Category']=[0 if i==\"0=Blood Donor\" or i==\"0s=suspect Blood Donor\" else \n",
    "               1 if i==\"1=Hepatitis\" else \n",
    "               2 if i==\"2=Fibrosis\" else\n",
    "               3 for i in df['Category']]"
   ]
  },
  {
   "cell_type": "code",
   "execution_count": 16,
   "id": "5f7091ae",
   "metadata": {
    "execution": {
     "iopub.execute_input": "2025-03-19T12:55:02.766733Z",
     "iopub.status.busy": "2025-03-19T12:55:02.766383Z",
     "iopub.status.idle": "2025-03-19T12:55:02.776475Z",
     "shell.execute_reply": "2025-03-19T12:55:02.775214Z"
    },
    "papermill": {
     "duration": 0.024934,
     "end_time": "2025-03-19T12:55:02.778420",
     "exception": false,
     "start_time": "2025-03-19T12:55:02.753486",
     "status": "completed"
    },
    "tags": []
   },
   "outputs": [
    {
     "data": {
      "text/plain": [
       "Category\n",
       "0    533\n",
       "3     24\n",
       "1     20\n",
       "2     12\n",
       "Name: count, dtype: int64"
      ]
     },
     "execution_count": 16,
     "metadata": {},
     "output_type": "execute_result"
    }
   ],
   "source": [
    "df['Category'].value_counts()"
   ]
  },
  {
   "cell_type": "code",
   "execution_count": 17,
   "id": "38df0947",
   "metadata": {
    "execution": {
     "iopub.execute_input": "2025-03-19T12:55:02.803239Z",
     "iopub.status.busy": "2025-03-19T12:55:02.802785Z",
     "iopub.status.idle": "2025-03-19T12:55:02.822268Z",
     "shell.execute_reply": "2025-03-19T12:55:02.820496Z"
    },
    "papermill": {
     "duration": 0.034061,
     "end_time": "2025-03-19T12:55:02.824537",
     "exception": false,
     "start_time": "2025-03-19T12:55:02.790476",
     "status": "completed"
    },
    "tags": []
   },
   "outputs": [
    {
     "data": {
      "text/html": [
       "<div>\n",
       "<style scoped>\n",
       "    .dataframe tbody tr th:only-of-type {\n",
       "        vertical-align: middle;\n",
       "    }\n",
       "\n",
       "    .dataframe tbody tr th {\n",
       "        vertical-align: top;\n",
       "    }\n",
       "\n",
       "    .dataframe thead th {\n",
       "        text-align: right;\n",
       "    }\n",
       "</style>\n",
       "<table border=\"1\" class=\"dataframe\">\n",
       "  <thead>\n",
       "    <tr style=\"text-align: right;\">\n",
       "      <th></th>\n",
       "      <th>Category</th>\n",
       "      <th>Age</th>\n",
       "      <th>Sex</th>\n",
       "      <th>ALB</th>\n",
       "      <th>ALP</th>\n",
       "      <th>ALT</th>\n",
       "      <th>AST</th>\n",
       "      <th>BIL</th>\n",
       "      <th>CHE</th>\n",
       "      <th>CHOL</th>\n",
       "      <th>CREA</th>\n",
       "      <th>GGT</th>\n",
       "      <th>PROT</th>\n",
       "    </tr>\n",
       "  </thead>\n",
       "  <tbody>\n",
       "    <tr>\n",
       "      <th>0</th>\n",
       "      <td>0</td>\n",
       "      <td>32</td>\n",
       "      <td>0</td>\n",
       "      <td>38.5</td>\n",
       "      <td>52.5</td>\n",
       "      <td>7.7</td>\n",
       "      <td>22.1</td>\n",
       "      <td>7.5</td>\n",
       "      <td>6.93</td>\n",
       "      <td>3.23</td>\n",
       "      <td>106.0</td>\n",
       "      <td>12.1</td>\n",
       "      <td>69.0</td>\n",
       "    </tr>\n",
       "    <tr>\n",
       "      <th>1</th>\n",
       "      <td>0</td>\n",
       "      <td>32</td>\n",
       "      <td>0</td>\n",
       "      <td>38.5</td>\n",
       "      <td>70.3</td>\n",
       "      <td>18.0</td>\n",
       "      <td>24.7</td>\n",
       "      <td>3.9</td>\n",
       "      <td>11.17</td>\n",
       "      <td>4.80</td>\n",
       "      <td>74.0</td>\n",
       "      <td>15.6</td>\n",
       "      <td>76.5</td>\n",
       "    </tr>\n",
       "    <tr>\n",
       "      <th>2</th>\n",
       "      <td>0</td>\n",
       "      <td>32</td>\n",
       "      <td>0</td>\n",
       "      <td>46.9</td>\n",
       "      <td>74.7</td>\n",
       "      <td>36.2</td>\n",
       "      <td>52.6</td>\n",
       "      <td>6.1</td>\n",
       "      <td>8.84</td>\n",
       "      <td>5.20</td>\n",
       "      <td>86.0</td>\n",
       "      <td>33.2</td>\n",
       "      <td>79.3</td>\n",
       "    </tr>\n",
       "    <tr>\n",
       "      <th>3</th>\n",
       "      <td>0</td>\n",
       "      <td>32</td>\n",
       "      <td>0</td>\n",
       "      <td>43.2</td>\n",
       "      <td>52.0</td>\n",
       "      <td>30.6</td>\n",
       "      <td>22.6</td>\n",
       "      <td>18.9</td>\n",
       "      <td>7.33</td>\n",
       "      <td>4.74</td>\n",
       "      <td>80.0</td>\n",
       "      <td>33.8</td>\n",
       "      <td>75.7</td>\n",
       "    </tr>\n",
       "    <tr>\n",
       "      <th>4</th>\n",
       "      <td>0</td>\n",
       "      <td>32</td>\n",
       "      <td>0</td>\n",
       "      <td>39.2</td>\n",
       "      <td>74.1</td>\n",
       "      <td>32.6</td>\n",
       "      <td>24.8</td>\n",
       "      <td>9.6</td>\n",
       "      <td>9.15</td>\n",
       "      <td>4.32</td>\n",
       "      <td>76.0</td>\n",
       "      <td>29.9</td>\n",
       "      <td>68.7</td>\n",
       "    </tr>\n",
       "  </tbody>\n",
       "</table>\n",
       "</div>"
      ],
      "text/plain": [
       "   Category  Age  Sex   ALB   ALP   ALT   AST   BIL    CHE  CHOL   CREA   GGT  \\\n",
       "0         0   32    0  38.5  52.5   7.7  22.1   7.5   6.93  3.23  106.0  12.1   \n",
       "1         0   32    0  38.5  70.3  18.0  24.7   3.9  11.17  4.80   74.0  15.6   \n",
       "2         0   32    0  46.9  74.7  36.2  52.6   6.1   8.84  5.20   86.0  33.2   \n",
       "3         0   32    0  43.2  52.0  30.6  22.6  18.9   7.33  4.74   80.0  33.8   \n",
       "4         0   32    0  39.2  74.1  32.6  24.8   9.6   9.15  4.32   76.0  29.9   \n",
       "\n",
       "   PROT  \n",
       "0  69.0  \n",
       "1  76.5  \n",
       "2  79.3  \n",
       "3  75.7  \n",
       "4  68.7  "
      ]
     },
     "execution_count": 17,
     "metadata": {},
     "output_type": "execute_result"
    }
   ],
   "source": [
    "df.head(5)"
   ]
  },
  {
   "cell_type": "markdown",
   "id": "ce02be80",
   "metadata": {
    "papermill": {
     "duration": 0.012076,
     "end_time": "2025-03-19T12:55:02.849461",
     "exception": false,
     "start_time": "2025-03-19T12:55:02.837385",
     "status": "completed"
    },
    "tags": []
   },
   "source": [
    "Choosing important columns"
   ]
  },
  {
   "cell_type": "code",
   "execution_count": 18,
   "id": "31ef1e3a",
   "metadata": {
    "execution": {
     "iopub.execute_input": "2025-03-19T12:55:02.875890Z",
     "iopub.status.busy": "2025-03-19T12:55:02.875482Z",
     "iopub.status.idle": "2025-03-19T12:55:03.404382Z",
     "shell.execute_reply": "2025-03-19T12:55:03.402903Z"
    },
    "papermill": {
     "duration": 0.544572,
     "end_time": "2025-03-19T12:55:03.406684",
     "exception": false,
     "start_time": "2025-03-19T12:55:02.862112",
     "status": "completed"
    },
    "tags": []
   },
   "outputs": [
    {
     "data": {
      "text/plain": [
       "<Axes: >"
      ]
     },
     "execution_count": 18,
     "metadata": {},
     "output_type": "execute_result"
    },
    {
     "data": {
      "image/png": "[encoded data removed]",
      "text/plain": [
       "<Figure size 640x480 with 2 Axes>"
      ]
     },
     "metadata": {},
     "output_type": "display_data"
    }
   ],
   "source": [
    "sns.heatmap(df.corr())"
   ]
  },
  {
   "cell_type": "code",
   "execution_count": 19,
   "id": "b9764024",
   "metadata": {
    "execution": {
     "iopub.execute_input": "2025-03-19T12:55:03.434252Z",
     "iopub.status.busy": "2025-03-19T12:55:03.433809Z",
     "iopub.status.idle": "2025-03-19T12:55:03.454611Z",
     "shell.execute_reply": "2025-03-19T12:55:03.453270Z"
    },
    "papermill": {
     "duration": 0.036762,
     "end_time": "2025-03-19T12:55:03.456466",
     "exception": false,
     "start_time": "2025-03-19T12:55:03.419704",
     "status": "completed"
    },
    "tags": []
   },
   "outputs": [
    {
     "data": {
      "text/html": [
       "<div>\n",
       "<style scoped>\n",
       "    .dataframe tbody tr th:only-of-type {\n",
       "        vertical-align: middle;\n",
       "    }\n",
       "\n",
       "    .dataframe tbody tr th {\n",
       "        vertical-align: top;\n",
       "    }\n",
       "\n",
       "    .dataframe thead th {\n",
       "        text-align: right;\n",
       "    }\n",
       "</style>\n",
       "<table border=\"1\" class=\"dataframe\">\n",
       "  <thead>\n",
       "    <tr style=\"text-align: right;\">\n",
       "      <th></th>\n",
       "      <th>Category</th>\n",
       "      <th>Age</th>\n",
       "      <th>Sex</th>\n",
       "      <th>ALB</th>\n",
       "      <th>ALP</th>\n",
       "      <th>ALT</th>\n",
       "      <th>AST</th>\n",
       "      <th>BIL</th>\n",
       "      <th>CHE</th>\n",
       "      <th>CHOL</th>\n",
       "      <th>CREA</th>\n",
       "      <th>GGT</th>\n",
       "      <th>PROT</th>\n",
       "    </tr>\n",
       "  </thead>\n",
       "  <tbody>\n",
       "    <tr>\n",
       "      <th>Category</th>\n",
       "      <td>1.000000</td>\n",
       "      <td>0.106264</td>\n",
       "      <td>-0.044617</td>\n",
       "      <td>-0.276111</td>\n",
       "      <td>0.053745</td>\n",
       "      <td>-0.198341</td>\n",
       "      <td>0.628535</td>\n",
       "      <td>0.549021</td>\n",
       "      <td>-0.369752</td>\n",
       "      <td>-0.283626</td>\n",
       "      <td>0.243989</td>\n",
       "      <td>0.424393</td>\n",
       "      <td>-0.039483</td>\n",
       "    </tr>\n",
       "    <tr>\n",
       "      <th>Age</th>\n",
       "      <td>0.106264</td>\n",
       "      <td>1.000000</td>\n",
       "      <td>0.014288</td>\n",
       "      <td>-0.191094</td>\n",
       "      <td>0.177720</td>\n",
       "      <td>-0.040576</td>\n",
       "      <td>0.072739</td>\n",
       "      <td>0.039655</td>\n",
       "      <td>-0.075863</td>\n",
       "      <td>0.124742</td>\n",
       "      <td>-0.025142</td>\n",
       "      <td>0.143379</td>\n",
       "      <td>-0.159760</td>\n",
       "    </tr>\n",
       "    <tr>\n",
       "      <th>Sex</th>\n",
       "      <td>-0.044617</td>\n",
       "      <td>0.014288</td>\n",
       "      <td>1.000000</td>\n",
       "      <td>-0.150091</td>\n",
       "      <td>0.007601</td>\n",
       "      <td>-0.177107</td>\n",
       "      <td>-0.129883</td>\n",
       "      <td>-0.108063</td>\n",
       "      <td>-0.181649</td>\n",
       "      <td>0.030447</td>\n",
       "      <td>-0.158068</td>\n",
       "      <td>-0.128142</td>\n",
       "      <td>-0.043296</td>\n",
       "    </tr>\n",
       "    <tr>\n",
       "      <th>ALB</th>\n",
       "      <td>-0.276111</td>\n",
       "      <td>-0.191094</td>\n",
       "      <td>-0.150091</td>\n",
       "      <td>1.000000</td>\n",
       "      <td>-0.146120</td>\n",
       "      <td>0.039497</td>\n",
       "      <td>-0.177609</td>\n",
       "      <td>-0.169597</td>\n",
       "      <td>0.360919</td>\n",
       "      <td>0.210420</td>\n",
       "      <td>0.001433</td>\n",
       "      <td>-0.147598</td>\n",
       "      <td>0.570726</td>\n",
       "    </tr>\n",
       "    <tr>\n",
       "      <th>ALP</th>\n",
       "      <td>0.053745</td>\n",
       "      <td>0.177720</td>\n",
       "      <td>0.007601</td>\n",
       "      <td>-0.146120</td>\n",
       "      <td>1.000000</td>\n",
       "      <td>0.221603</td>\n",
       "      <td>0.067024</td>\n",
       "      <td>0.058372</td>\n",
       "      <td>0.029482</td>\n",
       "      <td>0.125900</td>\n",
       "      <td>0.153909</td>\n",
       "      <td>0.461300</td>\n",
       "      <td>-0.063085</td>\n",
       "    </tr>\n",
       "    <tr>\n",
       "      <th>ALT</th>\n",
       "      <td>-0.198341</td>\n",
       "      <td>-0.040576</td>\n",
       "      <td>-0.177107</td>\n",
       "      <td>0.039497</td>\n",
       "      <td>0.221603</td>\n",
       "      <td>1.000000</td>\n",
       "      <td>0.198658</td>\n",
       "      <td>-0.106797</td>\n",
       "      <td>0.224344</td>\n",
       "      <td>0.149997</td>\n",
       "      <td>-0.036106</td>\n",
       "      <td>0.219707</td>\n",
       "      <td>0.016786</td>\n",
       "    </tr>\n",
       "    <tr>\n",
       "      <th>AST</th>\n",
       "      <td>0.628535</td>\n",
       "      <td>0.072739</td>\n",
       "      <td>-0.129883</td>\n",
       "      <td>-0.177609</td>\n",
       "      <td>0.067024</td>\n",
       "      <td>0.198658</td>\n",
       "      <td>1.000000</td>\n",
       "      <td>0.309580</td>\n",
       "      <td>-0.197270</td>\n",
       "      <td>-0.201213</td>\n",
       "      <td>-0.017948</td>\n",
       "      <td>0.477774</td>\n",
       "      <td>0.017404</td>\n",
       "    </tr>\n",
       "    <tr>\n",
       "      <th>BIL</th>\n",
       "      <td>0.549021</td>\n",
       "      <td>0.039655</td>\n",
       "      <td>-0.108063</td>\n",
       "      <td>-0.169597</td>\n",
       "      <td>0.058372</td>\n",
       "      <td>-0.106797</td>\n",
       "      <td>0.309580</td>\n",
       "      <td>1.000000</td>\n",
       "      <td>-0.320713</td>\n",
       "      <td>-0.181570</td>\n",
       "      <td>0.019910</td>\n",
       "      <td>0.210567</td>\n",
       "      <td>-0.052575</td>\n",
       "    </tr>\n",
       "    <tr>\n",
       "      <th>CHE</th>\n",
       "      <td>-0.369752</td>\n",
       "      <td>-0.075863</td>\n",
       "      <td>-0.181649</td>\n",
       "      <td>0.360919</td>\n",
       "      <td>0.029482</td>\n",
       "      <td>0.224344</td>\n",
       "      <td>-0.197270</td>\n",
       "      <td>-0.320713</td>\n",
       "      <td>1.000000</td>\n",
       "      <td>0.428018</td>\n",
       "      <td>-0.012120</td>\n",
       "      <td>-0.095716</td>\n",
       "      <td>0.306288</td>\n",
       "    </tr>\n",
       "    <tr>\n",
       "      <th>CHOL</th>\n",
       "      <td>-0.283626</td>\n",
       "      <td>0.124742</td>\n",
       "      <td>0.030447</td>\n",
       "      <td>0.210420</td>\n",
       "      <td>0.125900</td>\n",
       "      <td>0.149997</td>\n",
       "      <td>-0.201213</td>\n",
       "      <td>-0.181570</td>\n",
       "      <td>0.428018</td>\n",
       "      <td>1.000000</td>\n",
       "      <td>-0.051464</td>\n",
       "      <td>0.008823</td>\n",
       "      <td>0.245050</td>\n",
       "    </tr>\n",
       "    <tr>\n",
       "      <th>CREA</th>\n",
       "      <td>0.243989</td>\n",
       "      <td>-0.025142</td>\n",
       "      <td>-0.158068</td>\n",
       "      <td>0.001433</td>\n",
       "      <td>0.153909</td>\n",
       "      <td>-0.036106</td>\n",
       "      <td>-0.017948</td>\n",
       "      <td>0.019910</td>\n",
       "      <td>-0.012120</td>\n",
       "      <td>-0.051464</td>\n",
       "      <td>1.000000</td>\n",
       "      <td>0.125353</td>\n",
       "      <td>-0.030111</td>\n",
       "    </tr>\n",
       "    <tr>\n",
       "      <th>GGT</th>\n",
       "      <td>0.424393</td>\n",
       "      <td>0.143379</td>\n",
       "      <td>-0.128142</td>\n",
       "      <td>-0.147598</td>\n",
       "      <td>0.461300</td>\n",
       "      <td>0.219707</td>\n",
       "      <td>0.477774</td>\n",
       "      <td>0.210567</td>\n",
       "      <td>-0.095716</td>\n",
       "      <td>0.008823</td>\n",
       "      <td>0.125353</td>\n",
       "      <td>1.000000</td>\n",
       "      <td>-0.037127</td>\n",
       "    </tr>\n",
       "    <tr>\n",
       "      <th>PROT</th>\n",
       "      <td>-0.039483</td>\n",
       "      <td>-0.159760</td>\n",
       "      <td>-0.043296</td>\n",
       "      <td>0.570726</td>\n",
       "      <td>-0.063085</td>\n",
       "      <td>0.016786</td>\n",
       "      <td>0.017404</td>\n",
       "      <td>-0.052575</td>\n",
       "      <td>0.306288</td>\n",
       "      <td>0.245050</td>\n",
       "      <td>-0.030111</td>\n",
       "      <td>-0.037127</td>\n",
       "      <td>1.000000</td>\n",
       "    </tr>\n",
       "  </tbody>\n",
       "</table>\n",
       "</div>"
      ],
      "text/plain": [
       "          Category       Age       Sex       ALB       ALP       ALT  \\\n",
       "Category  1.000000  0.106264 -0.044617 -0.276111  0.053745 -0.198341   \n",
       "Age       0.106264  1.000000  0.014288 -0.191094  0.177720 -0.040576   \n",
       "Sex      -0.044617  0.014288  1.000000 -0.150091  0.007601 -0.177107   \n",
       "ALB      -0.276111 -0.191094 -0.150091  1.000000 -0.146120  0.039497   \n",
       "ALP       0.053745  0.177720  0.007601 -0.146120  1.000000  0.221603   \n",
       "ALT      -0.198341 -0.040576 -0.177107  0.039497  0.221603  1.000000   \n",
       "AST       0.628535  0.072739 -0.129883 -0.177609  0.067024  0.198658   \n",
       "BIL       0.549021  0.039655 -0.108063 -0.169597  0.058372 -0.106797   \n",
       "CHE      -0.369752 -0.075863 -0.181649  0.360919  0.029482  0.224344   \n",
       "CHOL     -0.283626  0.124742  0.030447  0.210420  0.125900  0.149997   \n",
       "CREA      0.243989 -0.025142 -0.158068  0.001433  0.153909 -0.036106   \n",
       "GGT       0.424393  0.143379 -0.128142 -0.147598  0.461300  0.219707   \n",
       "PROT     -0.039483 -0.159760 -0.043296  0.570726 -0.063085  0.016786   \n",
       "\n",
       "               AST       BIL       CHE      CHOL      CREA       GGT      PROT  \n",
       "Category  0.628535  0.549021 -0.369752 -0.283626  0.243989  0.424393 -0.039483  \n",
       "Age       0.072739  0.039655 -0.075863  0.124742 -0.025142  0.143379 -0.159760  \n",
       "Sex      -0.129883 -0.108063 -0.181649  0.030447 -0.158068 -0.128142 -0.043296  \n",
       "ALB      -0.177609 -0.169597  0.360919  0.210420  0.001433 -0.147598  0.570726  \n",
       "ALP       0.067024  0.058372  0.029482  0.125900  0.153909  0.461300 -0.063085  \n",
       "ALT       0.198658 -0.106797  0.224344  0.149997 -0.036106  0.219707  0.016786  \n",
       "AST       1.000000  0.309580 -0.197270 -0.201213 -0.017948  0.477774  0.017404  \n",
       "BIL       0.309580  1.000000 -0.320713 -0.181570  0.019910  0.210567 -0.052575  \n",
       "CHE      -0.197270 -0.320713  1.000000  0.428018 -0.012120 -0.095716  0.306288  \n",
       "CHOL     -0.201213 -0.181570  0.428018  1.000000 -0.051464  0.008823  0.245050  \n",
       "CREA     -0.017948  0.019910 -0.012120 -0.051464  1.000000  0.125353 -0.030111  \n",
       "GGT       0.477774  0.210567 -0.095716  0.008823  0.125353  1.000000 -0.037127  \n",
       "PROT      0.017404 -0.052575  0.306288  0.245050 -0.030111 -0.037127  1.000000  "
      ]
     },
     "execution_count": 19,
     "metadata": {},
     "output_type": "execute_result"
    }
   ],
   "source": [
    "df.corr()"
   ]
  },
  {
   "cell_type": "code",
   "execution_count": 20,
   "id": "d5192893",
   "metadata": {
    "execution": {
     "iopub.execute_input": "2025-03-19T12:55:03.484791Z",
     "iopub.status.busy": "2025-03-19T12:55:03.484284Z",
     "iopub.status.idle": "2025-03-19T12:55:03.507625Z",
     "shell.execute_reply": "2025-03-19T12:55:03.506230Z"
    },
    "papermill": {
     "duration": 0.039599,
     "end_time": "2025-03-19T12:55:03.509858",
     "exception": false,
     "start_time": "2025-03-19T12:55:03.470259",
     "status": "completed"
    },
    "tags": []
   },
   "outputs": [
    {
     "data": {
      "text/html": [
       "<div>\n",
       "<style scoped>\n",
       "    .dataframe tbody tr th:only-of-type {\n",
       "        vertical-align: middle;\n",
       "    }\n",
       "\n",
       "    .dataframe tbody tr th {\n",
       "        vertical-align: top;\n",
       "    }\n",
       "\n",
       "    .dataframe thead th {\n",
       "        text-align: right;\n",
       "    }\n",
       "</style>\n",
       "<table border=\"1\" class=\"dataframe\">\n",
       "  <thead>\n",
       "    <tr style=\"text-align: right;\">\n",
       "      <th></th>\n",
       "      <th>Category</th>\n",
       "      <th>Age</th>\n",
       "      <th>ALB</th>\n",
       "      <th>ALT</th>\n",
       "      <th>AST</th>\n",
       "      <th>BIL</th>\n",
       "      <th>CHE</th>\n",
       "      <th>CHOL</th>\n",
       "      <th>CREA</th>\n",
       "      <th>GGT</th>\n",
       "    </tr>\n",
       "  </thead>\n",
       "  <tbody>\n",
       "    <tr>\n",
       "      <th>0</th>\n",
       "      <td>0</td>\n",
       "      <td>32</td>\n",
       "      <td>38.5</td>\n",
       "      <td>7.7</td>\n",
       "      <td>22.1</td>\n",
       "      <td>7.5</td>\n",
       "      <td>6.93</td>\n",
       "      <td>3.23</td>\n",
       "      <td>106.0</td>\n",
       "      <td>12.1</td>\n",
       "    </tr>\n",
       "    <tr>\n",
       "      <th>1</th>\n",
       "      <td>0</td>\n",
       "      <td>32</td>\n",
       "      <td>38.5</td>\n",
       "      <td>18.0</td>\n",
       "      <td>24.7</td>\n",
       "      <td>3.9</td>\n",
       "      <td>11.17</td>\n",
       "      <td>4.80</td>\n",
       "      <td>74.0</td>\n",
       "      <td>15.6</td>\n",
       "    </tr>\n",
       "  </tbody>\n",
       "</table>\n",
       "</div>"
      ],
      "text/plain": [
       "   Category  Age   ALB   ALT   AST  BIL    CHE  CHOL   CREA   GGT\n",
       "0         0   32  38.5   7.7  22.1  7.5   6.93  3.23  106.0  12.1\n",
       "1         0   32  38.5  18.0  24.7  3.9  11.17  4.80   74.0  15.6"
      ]
     },
     "execution_count": 20,
     "metadata": {},
     "output_type": "execute_result"
    }
   ],
   "source": [
    "df_necessary=df.drop(['PROT','ALP','Sex'],axis=1)\n",
    "df_necessary.head(2)"
   ]
  },
  {
   "cell_type": "markdown",
   "id": "4a2528a7",
   "metadata": {
    "papermill": {
     "duration": 0.024339,
     "end_time": "2025-03-19T12:55:03.548344",
     "exception": false,
     "start_time": "2025-03-19T12:55:03.524005",
     "status": "completed"
    },
    "tags": []
   },
   "source": [
    "# Splitting data for training and testing"
   ]
  },
  {
   "cell_type": "code",
   "execution_count": 21,
   "id": "4f00ab38",
   "metadata": {
    "execution": {
     "iopub.execute_input": "2025-03-19T12:55:03.589995Z",
     "iopub.status.busy": "2025-03-19T12:55:03.589216Z",
     "iopub.status.idle": "2025-03-19T12:55:03.972567Z",
     "shell.execute_reply": "2025-03-19T12:55:03.971126Z"
    },
    "papermill": {
     "duration": 0.412395,
     "end_time": "2025-03-19T12:55:03.974746",
     "exception": false,
     "start_time": "2025-03-19T12:55:03.562351",
     "status": "completed"
    },
    "tags": []
   },
   "outputs": [],
   "source": [
    "from sklearn.model_selection import train_test_split\n",
    "\n",
    "X=df.drop(\"Category\",axis=1)\n",
    "y=df['Category']"
   ]
  },
  {
   "cell_type": "code",
   "execution_count": 22,
   "id": "bea4ab2e",
   "metadata": {
    "execution": {
     "iopub.execute_input": "2025-03-19T12:55:04.004573Z",
     "iopub.status.busy": "2025-03-19T12:55:04.004090Z",
     "iopub.status.idle": "2025-03-19T12:55:04.012282Z",
     "shell.execute_reply": "2025-03-19T12:55:04.011154Z"
    },
    "papermill": {
     "duration": 0.025923,
     "end_time": "2025-03-19T12:55:04.014328",
     "exception": false,
     "start_time": "2025-03-19T12:55:03.988405",
     "status": "completed"
    },
    "tags": []
   },
   "outputs": [],
   "source": [
    "X_train, X_test, y_train, y_test = train_test_split(X, y, test_size=0.25, random_state=42)"
   ]
  },
  {
   "cell_type": "markdown",
   "id": "31f6495e",
   "metadata": {
    "papermill": {
     "duration": 0.013794,
     "end_time": "2025-03-19T12:55:04.042213",
     "exception": false,
     "start_time": "2025-03-19T12:55:04.028419",
     "status": "completed"
    },
    "tags": []
   },
   "source": [
    "# Search Vector CLassifier"
   ]
  },
  {
   "cell_type": "code",
   "execution_count": 23,
   "id": "3465c117",
   "metadata": {
    "execution": {
     "iopub.execute_input": "2025-03-19T12:55:04.070849Z",
     "iopub.status.busy": "2025-03-19T12:55:04.070499Z",
     "iopub.status.idle": "2025-03-19T12:55:06.899850Z",
     "shell.execute_reply": "2025-03-19T12:55:06.898572Z"
    },
    "papermill": {
     "duration": 2.846014,
     "end_time": "2025-03-19T12:55:06.901530",
     "exception": false,
     "start_time": "2025-03-19T12:55:04.055516",
     "status": "completed"
    },
    "tags": []
   },
   "outputs": [
    {
     "name": "stdout",
     "output_type": "stream",
     "text": [
      "Best parameters: {'C': 10, 'gamma': 'scale', 'kernel': 'rbf'}\n"
     ]
    }
   ],
   "source": [
    "from sklearn.svm import SVC\n",
    "from sklearn.model_selection import GridSearchCV\n",
    "\n",
    "param_grid = {\n",
    "    'C': [0.1, 1, 10, 100],\n",
    "    'gamma': ['scale', 'auto', 0.1, 1],\n",
    "    'kernel': ['rbf', 'linear']\n",
    "}\n",
    "\n",
    "grid_search = GridSearchCV(SVC(), param_grid, cv=5)\n",
    "grid_search.fit(X_train, y_train)\n",
    "\n",
    "print(\"Best parameters:\", grid_search.best_params_)"
   ]
  },
  {
   "cell_type": "code",
   "execution_count": 24,
   "id": "873d7a35",
   "metadata": {
    "execution": {
     "iopub.execute_input": "2025-03-19T12:55:06.928954Z",
     "iopub.status.busy": "2025-03-19T12:55:06.928613Z",
     "iopub.status.idle": "2025-03-19T12:55:06.935512Z",
     "shell.execute_reply": "2025-03-19T12:55:06.934376Z"
    },
    "papermill": {
     "duration": 0.022769,
     "end_time": "2025-03-19T12:55:06.937517",
     "exception": false,
     "start_time": "2025-03-19T12:55:06.914748",
     "status": "completed"
    },
    "tags": []
   },
   "outputs": [],
   "source": [
    "y_pred=grid_search.predict(X_test)"
   ]
  },
  {
   "cell_type": "code",
   "execution_count": 25,
   "id": "59e4c631",
   "metadata": {
    "execution": {
     "iopub.execute_input": "2025-03-19T12:55:06.964712Z",
     "iopub.status.busy": "2025-03-19T12:55:06.964347Z",
     "iopub.status.idle": "2025-03-19T12:55:06.971302Z",
     "shell.execute_reply": "2025-03-19T12:55:06.969979Z"
    },
    "papermill": {
     "duration": 0.022593,
     "end_time": "2025-03-19T12:55:06.973048",
     "exception": false,
     "start_time": "2025-03-19T12:55:06.950455",
     "status": "completed"
    },
    "tags": []
   },
   "outputs": [
    {
     "name": "stdout",
     "output_type": "stream",
     "text": [
      "Accuracy: 0.9594594594594594\n"
     ]
    }
   ],
   "source": [
    "from sklearn.metrics import accuracy_score\n",
    "\n",
    "accuracy = accuracy_score(y_test, y_pred)\n",
    "print(\"Accuracy:\", accuracy)"
   ]
  },
  {
   "cell_type": "code",
   "execution_count": 26,
   "id": "9a95e343",
   "metadata": {
    "execution": {
     "iopub.execute_input": "2025-03-19T12:55:07.000075Z",
     "iopub.status.busy": "2025-03-19T12:55:06.999733Z",
     "iopub.status.idle": "2025-03-19T12:55:07.007560Z",
     "shell.execute_reply": "2025-03-19T12:55:07.006069Z"
    },
    "papermill": {
     "duration": 0.023352,
     "end_time": "2025-03-19T12:55:07.009405",
     "exception": false,
     "start_time": "2025-03-19T12:55:06.986053",
     "status": "completed"
    },
    "tags": []
   },
   "outputs": [
    {
     "name": "stdout",
     "output_type": "stream",
     "text": [
      "Confusion Matrix:\n",
      " [[128   0   0   0]\n",
      " [  2   3   3   0]\n",
      " [  0   1   3   0]\n",
      " [  0   0   0   8]]\n"
     ]
    }
   ],
   "source": [
    "from sklearn.metrics import confusion_matrix\n",
    "\n",
    "cm = confusion_matrix(y_test, y_pred)\n",
    "print(\"Confusion Matrix:\\n\", cm)\n"
   ]
  },
  {
   "cell_type": "code",
   "execution_count": 27,
   "id": "7dbd1f95",
   "metadata": {
    "execution": {
     "iopub.execute_input": "2025-03-19T12:55:07.037416Z",
     "iopub.status.busy": "2025-03-19T12:55:07.037018Z",
     "iopub.status.idle": "2025-03-19T12:55:07.051391Z",
     "shell.execute_reply": "2025-03-19T12:55:07.050142Z"
    },
    "papermill": {
     "duration": 0.030027,
     "end_time": "2025-03-19T12:55:07.053117",
     "exception": false,
     "start_time": "2025-03-19T12:55:07.023090",
     "status": "completed"
    },
    "tags": []
   },
   "outputs": [
    {
     "name": "stdout",
     "output_type": "stream",
     "text": [
      "Precision: 0.8086538461538462\n",
      "Recall: 0.78125\n",
      "F1-Score: 0.773062015503876\n"
     ]
    }
   ],
   "source": [
    "from sklearn.metrics import precision_score, recall_score, f1_score\n",
    "\n",
    "precision = precision_score(y_test, y_pred, average='macro')  \n",
    "recall = recall_score(y_test, y_pred, average='macro')        \n",
    "f1 = f1_score(y_test, y_pred, average='macro')                \n",
    "\n",
    "print(f\"Precision: {precision}\")\n",
    "print(f\"Recall: {recall}\")\n",
    "print(f\"F1-Score: {f1}\")\n"
   ]
  },
  {
   "cell_type": "markdown",
   "id": "daaab815",
   "metadata": {
    "papermill": {
     "duration": 0.012492,
     "end_time": "2025-03-19T12:55:07.078607",
     "exception": false,
     "start_time": "2025-03-19T12:55:07.066115",
     "status": "completed"
    },
    "tags": []
   },
   "source": [
    "# XGboost"
   ]
  },
  {
   "cell_type": "code",
   "execution_count": 28,
   "id": "1f4b9e75",
   "metadata": {
    "execution": {
     "iopub.execute_input": "2025-03-19T12:55:07.105585Z",
     "iopub.status.busy": "2025-03-19T12:55:07.105138Z",
     "iopub.status.idle": "2025-03-19T12:55:07.437072Z",
     "shell.execute_reply": "2025-03-19T12:55:07.435980Z"
    },
    "papermill": {
     "duration": 0.347763,
     "end_time": "2025-03-19T12:55:07.439063",
     "exception": false,
     "start_time": "2025-03-19T12:55:07.091300",
     "status": "completed"
    },
    "tags": []
   },
   "outputs": [],
   "source": [
    "import xgboost as xgb\n",
    "from xgboost import XGBClassifier,plot_tree"
   ]
  },
  {
   "cell_type": "code",
   "execution_count": 29,
   "id": "7ebc6c08",
   "metadata": {
    "execution": {
     "iopub.execute_input": "2025-03-19T12:55:07.540627Z",
     "iopub.status.busy": "2025-03-19T12:55:07.540147Z",
     "iopub.status.idle": "2025-03-19T12:55:07.544826Z",
     "shell.execute_reply": "2025-03-19T12:55:07.543718Z"
    },
    "papermill": {
     "duration": 0.094126,
     "end_time": "2025-03-19T12:55:07.546807",
     "exception": false,
     "start_time": "2025-03-19T12:55:07.452681",
     "status": "completed"
    },
    "tags": []
   },
   "outputs": [],
   "source": [
    "import warnings\n",
    "warnings.filterwarnings(\"ignore\")\n"
   ]
  },
  {
   "cell_type": "code",
   "execution_count": 30,
   "id": "4179eb47",
   "metadata": {
    "execution": {
     "iopub.execute_input": "2025-03-19T12:55:07.576575Z",
     "iopub.status.busy": "2025-03-19T12:55:07.576141Z",
     "iopub.status.idle": "2025-03-19T12:55:50.023797Z",
     "shell.execute_reply": "2025-03-19T12:55:50.022703Z"
    },
    "papermill": {
     "duration": 42.477288,
     "end_time": "2025-03-19T12:55:50.039043",
     "exception": false,
     "start_time": "2025-03-19T12:55:07.561755",
     "status": "completed"
    },
    "tags": []
   },
   "outputs": [
    {
     "name": "stdout",
     "output_type": "stream",
     "text": [
      "Fitting 3 folds for each of 81 candidates, totalling 243 fits\n"
     ]
    },
    {
     "data": {
      "text/html": [
       "<style>#sk-container-id-1 {color: black;background-color: white;}#sk-container-id-1 pre{padding: 0;}#sk-container-id-1 div.sk-toggleable {background-color: white;}#sk-container-id-1 label.sk-toggleable__label {cursor: pointer;display: block;width: 100%;margin-bottom: 0;padding: 0.3em;box-sizing: border-box;text-align: center;}#sk-container-id-1 label.sk-toggleable__label-arrow:before {content: \"▸\";float: left;margin-right: 0.25em;color: #696969;}#sk-container-id-1 label.sk-toggleable__label-arrow:hover:before {color: black;}#sk-container-id-1 div.sk-estimator:hover label.sk-toggleable__label-arrow:before {color: black;}#sk-container-id-1 div.sk-toggleable__content {max-height: 0;max-width: 0;overflow: hidden;text-align: left;background-color: #f0f8ff;}#sk-container-id-1 div.sk-toggleable__content pre {margin: 0.2em;color: black;border-radius: 0.25em;background-color: #f0f8ff;}#sk-container-id-1 input.sk-toggleable__control:checked~div.sk-toggleable__content {max-height: 200px;max-width: 100%;overflow: auto;}#sk-container-id-1 input.sk-toggleable__control:checked~label.sk-toggleable__label-arrow:before {content: \"▾\";}#sk-container-id-1 div.sk-estimator input.sk-toggleable__control:checked~label.sk-toggleable__label {background-color: #d4ebff;}#sk-container-id-1 div.sk-label input.sk-toggleable__control:checked~label.sk-toggleable__label {background-color: #d4ebff;}#sk-container-id-1 input.sk-hidden--visually {border: 0;clip: rect(1px 1px 1px 1px);clip: rect(1px, 1px, 1px, 1px);height: 1px;margin: -1px;overflow: hidden;padding: 0;position: absolute;width: 1px;}#sk-container-id-1 div.sk-estimator {font-family: monospace;background-color: #f0f8ff;border: 1px dotted black;border-radius: 0.25em;box-sizing: border-box;margin-bottom: 0.5em;}#sk-container-id-1 div.sk-estimator:hover {background-color: #d4ebff;}#sk-container-id-1 div.sk-parallel-item::after {content: \"\";width: 100%;border-bottom: 1px solid gray;flex-grow: 1;}#sk-container-id-1 div.sk-label:hover label.sk-toggleable__label {background-color: #d4ebff;}#sk-container-id-1 div.sk-serial::before {content: \"\";position: absolute;border-left: 1px solid gray;box-sizing: border-box;top: 0;bottom: 0;left: 50%;z-index: 0;}#sk-container-id-1 div.sk-serial {display: flex;flex-direction: column;align-items: center;background-color: white;padding-right: 0.2em;padding-left: 0.2em;position: relative;}#sk-container-id-1 div.sk-item {position: relative;z-index: 1;}#sk-container-id-1 div.sk-parallel {display: flex;align-items: stretch;justify-content: center;background-color: white;position: relative;}#sk-container-id-1 div.sk-item::before, #sk-container-id-1 div.sk-parallel-item::before {content: \"\";position: absolute;border-left: 1px solid gray;box-sizing: border-box;top: 0;bottom: 0;left: 50%;z-index: -1;}#sk-container-id-1 div.sk-parallel-item {display: flex;flex-direction: column;z-index: 1;position: relative;background-color: white;}#sk-container-id-1 div.sk-parallel-item:first-child::after {align-self: flex-end;width: 50%;}#sk-container-id-1 div.sk-parallel-item:last-child::after {align-self: flex-start;width: 50%;}#sk-container-id-1 div.sk-parallel-item:only-child::after {width: 0;}#sk-container-id-1 div.sk-dashed-wrapped {border: 1px dashed gray;margin: 0 0.4em 0.5em 0.4em;box-sizing: border-box;padding-bottom: 0.4em;background-color: white;}#sk-container-id-1 div.sk-label label {font-family: monospace;font-weight: bold;display: inline-block;line-height: 1.2em;}#sk-container-id-1 div.sk-label-container {text-align: center;}#sk-container-id-1 div.sk-container {/* jupyter's `normalize.less` sets `[hidden] { display: none; }` but bootstrap.min.css set `[hidden] { display: none !important; }` so we also need the `!important` here to be able to override the default hidden behavior on the sphinx rendered scikit-learn.org. See: https://github.com/scikit-learn/scikit-learn/issues/21755 */display: inline-block !important;position: relative;}#sk-container-id-1 div.sk-text-repr-fallback {display: none;}</style><div id=\"sk-container-id-1\" class=\"sk-top-container\"><div class=\"sk-text-repr-fallback\"><pre>GridSearchCV(cv=3,\n",
       "             estimator=XGBClassifier(base_score=None, booster=None,\n",
       "                                     callbacks=None, colsample_bylevel=None,\n",
       "                                     colsample_bynode=None,\n",
       "                                     colsample_bytree=None, device=None,\n",
       "                                     early_stopping_rounds=None,\n",
       "                                     enable_categorical=False, eval_metric=None,\n",
       "                                     feature_types=None, gamma=None,\n",
       "                                     grow_policy=None, importance_type=None,\n",
       "                                     interaction_constraints=None,\n",
       "                                     learning_rate=None,...\n",
       "                                     max_delta_step=None, max_depth=None,\n",
       "                                     max_leaves=None, min_child_weight=None,\n",
       "                                     missing=nan, monotone_constraints=None,\n",
       "                                     multi_strategy=None, n_estimators=None,\n",
       "                                     n_jobs=None, num_parallel_tree=None,\n",
       "                                     random_state=None, ...),\n",
       "             param_grid={&#x27;learning_rate&#x27;: [0.01, 0.1, 0.2],\n",
       "                         &#x27;max_depth&#x27;: [3, 6, 10],\n",
       "                         &#x27;min_child_weight&#x27;: [1, 5, 10],\n",
       "                         &#x27;n_estimators&#x27;: [100, 200, 300]},\n",
       "             scoring=&#x27;accuracy&#x27;, verbose=1)</pre><b>In a Jupyter environment, please rerun this cell to show the HTML representation or trust the notebook. <br />On GitHub, the HTML representation is unable to render, please try loading this page with nbviewer.org.</b></div><div class=\"sk-container\" hidden><div class=\"sk-item sk-dashed-wrapped\"><div class=\"sk-label-container\"><div class=\"sk-label sk-toggleable\"><input class=\"sk-toggleable__control sk-hidden--visually\" id=\"sk-estimator-id-1\" type=\"checkbox\" ><label for=\"sk-estimator-id-1\" class=\"sk-toggleable__label sk-toggleable__label-arrow\">GridSearchCV</label><div class=\"sk-toggleable__content\"><pre>GridSearchCV(cv=3,\n",
       "             estimator=XGBClassifier(base_score=None, booster=None,\n",
       "                                     callbacks=None, colsample_bylevel=None,\n",
       "                                     colsample_bynode=None,\n",
       "                                     colsample_bytree=None, device=None,\n",
       "                                     early_stopping_rounds=None,\n",
       "                                     enable_categorical=False, eval_metric=None,\n",
       "                                     feature_types=None, gamma=None,\n",
       "                                     grow_policy=None, importance_type=None,\n",
       "                                     interaction_constraints=None,\n",
       "                                     learning_rate=None,...\n",
       "                                     max_delta_step=None, max_depth=None,\n",
       "                                     max_leaves=None, min_child_weight=None,\n",
       "                                     missing=nan, monotone_constraints=None,\n",
       "                                     multi_strategy=None, n_estimators=None,\n",
       "                                     n_jobs=None, num_parallel_tree=None,\n",
       "                                     random_state=None, ...),\n",
       "             param_grid={&#x27;learning_rate&#x27;: [0.01, 0.1, 0.2],\n",
       "                         &#x27;max_depth&#x27;: [3, 6, 10],\n",
       "                         &#x27;min_child_weight&#x27;: [1, 5, 10],\n",
       "                         &#x27;n_estimators&#x27;: [100, 200, 300]},\n",
       "             scoring=&#x27;accuracy&#x27;, verbose=1)</pre></div></div></div><div class=\"sk-parallel\"><div class=\"sk-parallel-item\"><div class=\"sk-item\"><div class=\"sk-label-container\"><div class=\"sk-label sk-toggleable\"><input class=\"sk-toggleable__control sk-hidden--visually\" id=\"sk-estimator-id-2\" type=\"checkbox\" ><label for=\"sk-estimator-id-2\" class=\"sk-toggleable__label sk-toggleable__label-arrow\">estimator: XGBClassifier</label><div class=\"sk-toggleable__content\"><pre>XGBClassifier(base_score=None, booster=None, callbacks=None,\n",
       "              colsample_bylevel=None, colsample_bynode=None,\n",
       "              colsample_bytree=None, device=None, early_stopping_rounds=None,\n",
       "              enable_categorical=False, eval_metric=None, feature_types=None,\n",
       "              gamma=None, grow_policy=None, importance_type=None,\n",
       "              interaction_constraints=None, learning_rate=None, max_bin=None,\n",
       "              max_cat_threshold=None, max_cat_to_onehot=None,\n",
       "              max_delta_step=None, max_depth=None, max_leaves=None,\n",
       "              min_child_weight=None, missing=nan, monotone_constraints=None,\n",
       "              multi_strategy=None, n_estimators=None, n_jobs=None,\n",
       "              num_parallel_tree=None, random_state=None, ...)</pre></div></div></div><div class=\"sk-serial\"><div class=\"sk-item\"><div class=\"sk-estimator sk-toggleable\"><input class=\"sk-toggleable__control sk-hidden--visually\" id=\"sk-estimator-id-3\" type=\"checkbox\" ><label for=\"sk-estimator-id-3\" class=\"sk-toggleable__label sk-toggleable__label-arrow\">XGBClassifier</label><div class=\"sk-toggleable__content\"><pre>XGBClassifier(base_score=None, booster=None, callbacks=None,\n",
       "              colsample_bylevel=None, colsample_bynode=None,\n",
       "              colsample_bytree=None, device=None, early_stopping_rounds=None,\n",
       "              enable_categorical=False, eval_metric=None, feature_types=None,\n",
       "              gamma=None, grow_policy=None, importance_type=None,\n",
       "              interaction_constraints=None, learning_rate=None, max_bin=None,\n",
       "              max_cat_threshold=None, max_cat_to_onehot=None,\n",
       "              max_delta_step=None, max_depth=None, max_leaves=None,\n",
       "              min_child_weight=None, missing=nan, monotone_constraints=None,\n",
       "              multi_strategy=None, n_estimators=None, n_jobs=None,\n",
       "              num_parallel_tree=None, random_state=None, ...)</pre></div></div></div></div></div></div></div></div></div></div>"
      ],
      "text/plain": [
       "GridSearchCV(cv=3,\n",
       "             estimator=XGBClassifier(base_score=None, booster=None,\n",
       "                                     callbacks=None, colsample_bylevel=None,\n",
       "                                     colsample_bynode=None,\n",
       "                                     colsample_bytree=None, device=None,\n",
       "                                     early_stopping_rounds=None,\n",
       "                                     enable_categorical=False, eval_metric=None,\n",
       "                                     feature_types=None, gamma=None,\n",
       "                                     grow_policy=None, importance_type=None,\n",
       "                                     interaction_constraints=None,\n",
       "                                     learning_rate=None,...\n",
       "                                     max_delta_step=None, max_depth=None,\n",
       "                                     max_leaves=None, min_child_weight=None,\n",
       "                                     missing=nan, monotone_constraints=None,\n",
       "                                     multi_strategy=None, n_estimators=None,\n",
       "                                     n_jobs=None, num_parallel_tree=None,\n",
       "                                     random_state=None, ...),\n",
       "             param_grid={'learning_rate': [0.01, 0.1, 0.2],\n",
       "                         'max_depth': [3, 6, 10],\n",
       "                         'min_child_weight': [1, 5, 10],\n",
       "                         'n_estimators': [100, 200, 300]},\n",
       "             scoring='accuracy', verbose=1)"
      ]
     },
     "execution_count": 30,
     "metadata": {},
     "output_type": "execute_result"
    }
   ],
   "source": [
    "param_grid_XGB = {\n",
    "    'n_estimators': [100, 200, 300],\n",
    "    'learning_rate': [0.01, 0.1, 0.2],\n",
    "    'max_depth': [3, 6, 10],\n",
    "    'min_child_weight': [1, 5, 10],\n",
    "}\n",
    "\n",
    "model = GridSearchCV(estimator=xgb.XGBClassifier(), param_grid=param_grid_XGB, cv=3, scoring='accuracy', verbose=1)\n",
    "model.fit(X_train, y_train)\n",
    "\n"
   ]
  },
  {
   "cell_type": "code",
   "execution_count": 31,
   "id": "08f9ae4c",
   "metadata": {
    "execution": {
     "iopub.execute_input": "2025-03-19T12:55:50.067487Z",
     "iopub.status.busy": "2025-03-19T12:55:50.067057Z",
     "iopub.status.idle": "2025-03-19T12:55:50.071972Z",
     "shell.execute_reply": "2025-03-19T12:55:50.070908Z"
    },
    "papermill": {
     "duration": 0.021194,
     "end_time": "2025-03-19T12:55:50.073605",
     "exception": false,
     "start_time": "2025-03-19T12:55:50.052411",
     "status": "completed"
    },
    "tags": []
   },
   "outputs": [
    {
     "name": "stdout",
     "output_type": "stream",
     "text": [
      "Best parameters: {'learning_rate': 0.1, 'max_depth': 3, 'min_child_weight': 1, 'n_estimators': 200}\n"
     ]
    }
   ],
   "source": [
    "# Best parameters found by GridSearchCV\n",
    "print(\"Best parameters:\", model.best_params_)"
   ]
  },
  {
   "cell_type": "code",
   "execution_count": 32,
   "id": "07b5944a",
   "metadata": {
    "execution": {
     "iopub.execute_input": "2025-03-19T12:55:50.102328Z",
     "iopub.status.busy": "2025-03-19T12:55:50.101936Z",
     "iopub.status.idle": "2025-03-19T12:55:50.110329Z",
     "shell.execute_reply": "2025-03-19T12:55:50.109449Z"
    },
    "papermill": {
     "duration": 0.024892,
     "end_time": "2025-03-19T12:55:50.112376",
     "exception": false,
     "start_time": "2025-03-19T12:55:50.087484",
     "status": "completed"
    },
    "tags": []
   },
   "outputs": [],
   "source": [
    "y_pred2=model.predict(X_test)"
   ]
  },
  {
   "cell_type": "code",
   "execution_count": 33,
   "id": "ae38951d",
   "metadata": {
    "execution": {
     "iopub.execute_input": "2025-03-19T12:55:50.144007Z",
     "iopub.status.busy": "2025-03-19T12:55:50.143659Z",
     "iopub.status.idle": "2025-03-19T12:55:50.150713Z",
     "shell.execute_reply": "2025-03-19T12:55:50.149521Z"
    },
    "papermill": {
     "duration": 0.02346,
     "end_time": "2025-03-19T12:55:50.152606",
     "exception": false,
     "start_time": "2025-03-19T12:55:50.129146",
     "status": "completed"
    },
    "tags": []
   },
   "outputs": [
    {
     "name": "stdout",
     "output_type": "stream",
     "text": [
      "Accuracy: 0.9256756756756757\n"
     ]
    }
   ],
   "source": [
    "accuracy = accuracy_score(y_test, y_pred2)\n",
    "print(\"Accuracy:\", accuracy)"
   ]
  },
  {
   "cell_type": "code",
   "execution_count": 34,
   "id": "a0904426",
   "metadata": {
    "execution": {
     "iopub.execute_input": "2025-03-19T12:55:50.181353Z",
     "iopub.status.busy": "2025-03-19T12:55:50.180924Z",
     "iopub.status.idle": "2025-03-19T12:55:50.188949Z",
     "shell.execute_reply": "2025-03-19T12:55:50.187794Z"
    },
    "papermill": {
     "duration": 0.024422,
     "end_time": "2025-03-19T12:55:50.190784",
     "exception": false,
     "start_time": "2025-03-19T12:55:50.166362",
     "status": "completed"
    },
    "tags": []
   },
   "outputs": [
    {
     "name": "stdout",
     "output_type": "stream",
     "text": [
      "Confusion Matrix:\n",
      " [[128   0   0   0]\n",
      " [  2   3   3   0]\n",
      " [  1   3   0   0]\n",
      " [  1   0   1   6]]\n"
     ]
    }
   ],
   "source": [
    "cm = confusion_matrix(y_test, y_pred2)\n",
    "print(\"Confusion Matrix:\\n\", cm)\n"
   ]
  },
  {
   "cell_type": "code",
   "execution_count": 35,
   "id": "522a2ceb",
   "metadata": {
    "execution": {
     "iopub.execute_input": "2025-03-19T12:55:50.219529Z",
     "iopub.status.busy": "2025-03-19T12:55:50.219101Z",
     "iopub.status.idle": "2025-03-19T12:55:50.232787Z",
     "shell.execute_reply": "2025-03-19T12:55:50.231471Z"
    },
    "papermill": {
     "duration": 0.029998,
     "end_time": "2025-03-19T12:55:50.234675",
     "exception": false,
     "start_time": "2025-03-19T12:55:50.204677",
     "status": "completed"
    },
    "tags": []
   },
   "outputs": [
    {
     "name": "stdout",
     "output_type": "stream",
     "text": [
      "Precision: 0.6174242424242424\n",
      "Recall: 0.53125\n",
      "F1-Score: 0.5675824175824176\n"
     ]
    }
   ],
   "source": [
    "precision = precision_score(y_test, y_pred2, average='macro')\n",
    "recall = recall_score(y_test, y_pred2, average='macro')        \n",
    "f1 = f1_score(y_test, y_pred2, average='macro')                \n",
    "\n",
    "print(f\"Precision: {precision}\")\n",
    "print(f\"Recall: {recall}\")\n",
    "print(f\"F1-Score: {f1}\")\n"
   ]
  },
  {
   "cell_type": "code",
   "execution_count": 36,
   "id": "450e165d",
   "metadata": {
    "execution": {
     "iopub.execute_input": "2025-03-19T12:55:50.263295Z",
     "iopub.status.busy": "2025-03-19T12:55:50.262905Z",
     "iopub.status.idle": "2025-03-19T12:55:50.268102Z",
     "shell.execute_reply": "2025-03-19T12:55:50.267256Z"
    },
    "papermill": {
     "duration": 0.021568,
     "end_time": "2025-03-19T12:55:50.269979",
     "exception": false,
     "start_time": "2025-03-19T12:55:50.248411",
     "status": "completed"
    },
    "tags": []
   },
   "outputs": [],
   "source": [
    "X=df_necessary.drop(\"Category\",axis=1)\n",
    "y=df_necessary['Category']"
   ]
  },
  {
   "cell_type": "code",
   "execution_count": 37,
   "id": "61ae0539",
   "metadata": {
    "execution": {
     "iopub.execute_input": "2025-03-19T12:55:50.298512Z",
     "iopub.status.busy": "2025-03-19T12:55:50.298100Z",
     "iopub.status.idle": "2025-03-19T12:55:50.304246Z",
     "shell.execute_reply": "2025-03-19T12:55:50.303152Z"
    },
    "papermill": {
     "duration": 0.02227,
     "end_time": "2025-03-19T12:55:50.305957",
     "exception": false,
     "start_time": "2025-03-19T12:55:50.283687",
     "status": "completed"
    },
    "tags": []
   },
   "outputs": [],
   "source": [
    "X_train, X_test, y_train, y_test = train_test_split(X, y, test_size=0.25, random_state=42)"
   ]
  },
  {
   "cell_type": "code",
   "execution_count": 38,
   "id": "32fb2b67",
   "metadata": {
    "execution": {
     "iopub.execute_input": "2025-03-19T12:55:50.334785Z",
     "iopub.status.busy": "2025-03-19T12:55:50.334420Z",
     "iopub.status.idle": "2025-03-19T12:55:50.347101Z",
     "shell.execute_reply": "2025-03-19T12:55:50.346025Z"
    },
    "papermill": {
     "duration": 0.029118,
     "end_time": "2025-03-19T12:55:50.348941",
     "exception": false,
     "start_time": "2025-03-19T12:55:50.319823",
     "status": "completed"
    },
    "tags": []
   },
   "outputs": [
    {
     "data": {
      "text/html": [
       "<style>#sk-container-id-2 {color: black;background-color: white;}#sk-container-id-2 pre{padding: 0;}#sk-container-id-2 div.sk-toggleable {background-color: white;}#sk-container-id-2 label.sk-toggleable__label {cursor: pointer;display: block;width: 100%;margin-bottom: 0;padding: 0.3em;box-sizing: border-box;text-align: center;}#sk-container-id-2 label.sk-toggleable__label-arrow:before {content: \"▸\";float: left;margin-right: 0.25em;color: #696969;}#sk-container-id-2 label.sk-toggleable__label-arrow:hover:before {color: black;}#sk-container-id-2 div.sk-estimator:hover label.sk-toggleable__label-arrow:before {color: black;}#sk-container-id-2 div.sk-toggleable__content {max-height: 0;max-width: 0;overflow: hidden;text-align: left;background-color: #f0f8ff;}#sk-container-id-2 div.sk-toggleable__content pre {margin: 0.2em;color: black;border-radius: 0.25em;background-color: #f0f8ff;}#sk-container-id-2 input.sk-toggleable__control:checked~div.sk-toggleable__content {max-height: 200px;max-width: 100%;overflow: auto;}#sk-container-id-2 input.sk-toggleable__control:checked~label.sk-toggleable__label-arrow:before {content: \"▾\";}#sk-container-id-2 div.sk-estimator input.sk-toggleable__control:checked~label.sk-toggleable__label {background-color: #d4ebff;}#sk-container-id-2 div.sk-label input.sk-toggleable__control:checked~label.sk-toggleable__label {background-color: #d4ebff;}#sk-container-id-2 input.sk-hidden--visually {border: 0;clip: rect(1px 1px 1px 1px);clip: rect(1px, 1px, 1px, 1px);height: 1px;margin: -1px;overflow: hidden;padding: 0;position: absolute;width: 1px;}#sk-container-id-2 div.sk-estimator {font-family: monospace;background-color: #f0f8ff;border: 1px dotted black;border-radius: 0.25em;box-sizing: border-box;margin-bottom: 0.5em;}#sk-container-id-2 div.sk-estimator:hover {background-color: #d4ebff;}#sk-container-id-2 div.sk-parallel-item::after {content: \"\";width: 100%;border-bottom: 1px solid gray;flex-grow: 1;}#sk-container-id-2 div.sk-label:hover label.sk-toggleable__label {background-color: #d4ebff;}#sk-container-id-2 div.sk-serial::before {content: \"\";position: absolute;border-left: 1px solid gray;box-sizing: border-box;top: 0;bottom: 0;left: 50%;z-index: 0;}#sk-container-id-2 div.sk-serial {display: flex;flex-direction: column;align-items: center;background-color: white;padding-right: 0.2em;padding-left: 0.2em;position: relative;}#sk-container-id-2 div.sk-item {position: relative;z-index: 1;}#sk-container-id-2 div.sk-parallel {display: flex;align-items: stretch;justify-content: center;background-color: white;position: relative;}#sk-container-id-2 div.sk-item::before, #sk-container-id-2 div.sk-parallel-item::before {content: \"\";position: absolute;border-left: 1px solid gray;box-sizing: border-box;top: 0;bottom: 0;left: 50%;z-index: -1;}#sk-container-id-2 div.sk-parallel-item {display: flex;flex-direction: column;z-index: 1;position: relative;background-color: white;}#sk-container-id-2 div.sk-parallel-item:first-child::after {align-self: flex-end;width: 50%;}#sk-container-id-2 div.sk-parallel-item:last-child::after {align-self: flex-start;width: 50%;}#sk-container-id-2 div.sk-parallel-item:only-child::after {width: 0;}#sk-container-id-2 div.sk-dashed-wrapped {border: 1px dashed gray;margin: 0 0.4em 0.5em 0.4em;box-sizing: border-box;padding-bottom: 0.4em;background-color: white;}#sk-container-id-2 div.sk-label label {font-family: monospace;font-weight: bold;display: inline-block;line-height: 1.2em;}#sk-container-id-2 div.sk-label-container {text-align: center;}#sk-container-id-2 div.sk-container {/* jupyter's `normalize.less` sets `[hidden] { display: none; }` but bootstrap.min.css set `[hidden] { display: none !important; }` so we also need the `!important` here to be able to override the default hidden behavior on the sphinx rendered scikit-learn.org. See: https://github.com/scikit-learn/scikit-learn/issues/21755 */display: inline-block !important;position: relative;}#sk-container-id-2 div.sk-text-repr-fallback {display: none;}</style><div id=\"sk-container-id-2\" class=\"sk-top-container\"><div class=\"sk-text-repr-fallback\"><pre>SVC(C=10)</pre><b>In a Jupyter environment, please rerun this cell to show the HTML representation or trust the notebook. <br />On GitHub, the HTML representation is unable to render, please try loading this page with nbviewer.org.</b></div><div class=\"sk-container\" hidden><div class=\"sk-item\"><div class=\"sk-estimator sk-toggleable\"><input class=\"sk-toggleable__control sk-hidden--visually\" id=\"sk-estimator-id-4\" type=\"checkbox\" checked><label for=\"sk-estimator-id-4\" class=\"sk-toggleable__label sk-toggleable__label-arrow\">SVC</label><div class=\"sk-toggleable__content\"><pre>SVC(C=10)</pre></div></div></div></div></div>"
      ],
      "text/plain": [
       "SVC(C=10)"
      ]
     },
     "execution_count": 38,
     "metadata": {},
     "output_type": "execute_result"
    }
   ],
   "source": [
    "model3=SVC(C=10,gamma='scale',kernel='rbf')\n",
    "model3.fit(X_train, y_train)"
   ]
  },
  {
   "cell_type": "code",
   "execution_count": 39,
   "id": "47e2fd68",
   "metadata": {
    "execution": {
     "iopub.execute_input": "2025-03-19T12:55:50.378687Z",
     "iopub.status.busy": "2025-03-19T12:55:50.378326Z",
     "iopub.status.idle": "2025-03-19T12:55:50.387807Z",
     "shell.execute_reply": "2025-03-19T12:55:50.386378Z"
    },
    "papermill": {
     "duration": 0.026466,
     "end_time": "2025-03-19T12:55:50.389831",
     "exception": false,
     "start_time": "2025-03-19T12:55:50.363365",
     "status": "completed"
    },
    "tags": []
   },
   "outputs": [
    {
     "name": "stdout",
     "output_type": "stream",
     "text": [
      "Accuracy: 0.9527027027027027\n"
     ]
    }
   ],
   "source": [
    "y_pred3=model3.predict(X_test)\n",
    "accuracy = accuracy_score(y_test, y_pred3)\n",
    "print(\"Accuracy:\", accuracy)"
   ]
  },
  {
   "cell_type": "code",
   "execution_count": 40,
   "id": "11ca1f66",
   "metadata": {
    "execution": {
     "iopub.execute_input": "2025-03-19T12:55:50.419317Z",
     "iopub.status.busy": "2025-03-19T12:55:50.418928Z",
     "iopub.status.idle": "2025-03-19T12:55:50.432116Z",
     "shell.execute_reply": "2025-03-19T12:55:50.431121Z"
    },
    "papermill": {
     "duration": 0.029965,
     "end_time": "2025-03-19T12:55:50.433891",
     "exception": false,
     "start_time": "2025-03-19T12:55:50.403926",
     "status": "completed"
    },
    "tags": []
   },
   "outputs": [
    {
     "name": "stdout",
     "output_type": "stream",
     "text": [
      "Precision: 0.8067748091603053\n",
      "Recall: 0.75\n",
      "F1-Score: 0.7554375804375804\n"
     ]
    }
   ],
   "source": [
    "precision = precision_score(y_test, y_pred3, average='macro')  # or 'micro', 'weighted'\n",
    "recall = recall_score(y_test, y_pred3, average='macro')        # or 'micro', 'weighted'\n",
    "f1 = f1_score(y_test, y_pred3, average='macro')                # or 'micro', 'weighted'\n",
    "\n",
    "print(f\"Precision: {precision}\")\n",
    "print(f\"Recall: {recall}\")\n",
    "print(f\"F1-Score: {f1}\")\n"
   ]
  },
  {
   "cell_type": "markdown",
   "id": "c304ba8e",
   "metadata": {
    "papermill": {
     "duration": 0.014939,
     "end_time": "2025-03-19T12:55:50.463001",
     "exception": false,
     "start_time": "2025-03-19T12:55:50.448062",
     "status": "completed"
    },
    "tags": []
   },
   "source": [
    "# Random Forest CLassifier"
   ]
  },
  {
   "cell_type": "code",
   "execution_count": 41,
   "id": "56db2f41",
   "metadata": {
    "execution": {
     "iopub.execute_input": "2025-03-19T12:55:50.492357Z",
     "iopub.status.busy": "2025-03-19T12:55:50.491884Z",
     "iopub.status.idle": "2025-03-19T12:55:50.864504Z",
     "shell.execute_reply": "2025-03-19T12:55:50.863569Z"
    },
    "papermill": {
     "duration": 0.389348,
     "end_time": "2025-03-19T12:55:50.866321",
     "exception": false,
     "start_time": "2025-03-19T12:55:50.476973",
     "status": "completed"
    },
    "tags": []
   },
   "outputs": [],
   "source": [
    "from sklearn.ensemble import RandomForestClassifier\n",
    "\n",
    "model4 = RandomForestClassifier(\n",
    "    bootstrap=True,\n",
    "    criterion='gini',\n",
    "    max_depth=80,\n",
    "    max_features=3,\n",
    "    min_samples_leaf=3,\n",
    "    min_samples_split=12,\n",
    "    n_estimators=300,\n",
    "    random_state=42  \n",
    ")"
   ]
  },
  {
   "cell_type": "code",
   "execution_count": 42,
   "id": "5eb67066",
   "metadata": {
    "execution": {
     "iopub.execute_input": "2025-03-19T12:55:50.896688Z",
     "iopub.status.busy": "2025-03-19T12:55:50.896326Z",
     "iopub.status.idle": "2025-03-19T12:55:50.901810Z",
     "shell.execute_reply": "2025-03-19T12:55:50.900664Z"
    },
    "papermill": {
     "duration": 0.022495,
     "end_time": "2025-03-19T12:55:50.903527",
     "exception": false,
     "start_time": "2025-03-19T12:55:50.881032",
     "status": "completed"
    },
    "tags": []
   },
   "outputs": [],
   "source": [
    "X=df.drop(\"Category\",axis=1)\n",
    "y=df['Category']"
   ]
  },
  {
   "cell_type": "code",
   "execution_count": 43,
   "id": "8f85e30f",
   "metadata": {
    "execution": {
     "iopub.execute_input": "2025-03-19T12:55:50.935592Z",
     "iopub.status.busy": "2025-03-19T12:55:50.935103Z",
     "iopub.status.idle": "2025-03-19T12:55:50.942455Z",
     "shell.execute_reply": "2025-03-19T12:55:50.941491Z"
    },
    "papermill": {
     "duration": 0.025,
     "end_time": "2025-03-19T12:55:50.944131",
     "exception": false,
     "start_time": "2025-03-19T12:55:50.919131",
     "status": "completed"
    },
    "tags": []
   },
   "outputs": [],
   "source": [
    "X_train, X_test, y_train, y_test = train_test_split(X, y, test_size=0.2, random_state=42)"
   ]
  },
  {
   "cell_type": "code",
   "execution_count": 44,
   "id": "e9a5ca2f",
   "metadata": {
    "execution": {
     "iopub.execute_input": "2025-03-19T12:55:50.975771Z",
     "iopub.status.busy": "2025-03-19T12:55:50.975285Z",
     "iopub.status.idle": "2025-03-19T12:55:51.548376Z",
     "shell.execute_reply": "2025-03-19T12:55:51.546842Z"
    },
    "papermill": {
     "duration": 0.591374,
     "end_time": "2025-03-19T12:55:51.550454",
     "exception": false,
     "start_time": "2025-03-19T12:55:50.959080",
     "status": "completed"
    },
    "tags": []
   },
   "outputs": [
    {
     "data": {
      "text/html": [
       "<style>#sk-container-id-3 {color: black;background-color: white;}#sk-container-id-3 pre{padding: 0;}#sk-container-id-3 div.sk-toggleable {background-color: white;}#sk-container-id-3 label.sk-toggleable__label {cursor: pointer;display: block;width: 100%;margin-bottom: 0;padding: 0.3em;box-sizing: border-box;text-align: center;}#sk-container-id-3 label.sk-toggleable__label-arrow:before {content: \"▸\";float: left;margin-right: 0.25em;color: #696969;}#sk-container-id-3 label.sk-toggleable__label-arrow:hover:before {color: black;}#sk-container-id-3 div.sk-estimator:hover label.sk-toggleable__label-arrow:before {color: black;}#sk-container-id-3 div.sk-toggleable__content {max-height: 0;max-width: 0;overflow: hidden;text-align: left;background-color: #f0f8ff;}#sk-container-id-3 div.sk-toggleable__content pre {margin: 0.2em;color: black;border-radius: 0.25em;background-color: #f0f8ff;}#sk-container-id-3 input.sk-toggleable__control:checked~div.sk-toggleable__content {max-height: 200px;max-width: 100%;overflow: auto;}#sk-container-id-3 input.sk-toggleable__control:checked~label.sk-toggleable__label-arrow:before {content: \"▾\";}#sk-container-id-3 div.sk-estimator input.sk-toggleable__control:checked~label.sk-toggleable__label {background-color: #d4ebff;}#sk-container-id-3 div.sk-label input.sk-toggleable__control:checked~label.sk-toggleable__label {background-color: #d4ebff;}#sk-container-id-3 input.sk-hidden--visually {border: 0;clip: rect(1px 1px 1px 1px);clip: rect(1px, 1px, 1px, 1px);height: 1px;margin: -1px;overflow: hidden;padding: 0;position: absolute;width: 1px;}#sk-container-id-3 div.sk-estimator {font-family: monospace;background-color: #f0f8ff;border: 1px dotted black;border-radius: 0.25em;box-sizing: border-box;margin-bottom: 0.5em;}#sk-container-id-3 div.sk-estimator:hover {background-color: #d4ebff;}#sk-container-id-3 div.sk-parallel-item::after {content: \"\";width: 100%;border-bottom: 1px solid gray;flex-grow: 1;}#sk-container-id-3 div.sk-label:hover label.sk-toggleable__label {background-color: #d4ebff;}#sk-container-id-3 div.sk-serial::before {content: \"\";position: absolute;border-left: 1px solid gray;box-sizing: border-box;top: 0;bottom: 0;left: 50%;z-index: 0;}#sk-container-id-3 div.sk-serial {display: flex;flex-direction: column;align-items: center;background-color: white;padding-right: 0.2em;padding-left: 0.2em;position: relative;}#sk-container-id-3 div.sk-item {position: relative;z-index: 1;}#sk-container-id-3 div.sk-parallel {display: flex;align-items: stretch;justify-content: center;background-color: white;position: relative;}#sk-container-id-3 div.sk-item::before, #sk-container-id-3 div.sk-parallel-item::before {content: \"\";position: absolute;border-left: 1px solid gray;box-sizing: border-box;top: 0;bottom: 0;left: 50%;z-index: -1;}#sk-container-id-3 div.sk-parallel-item {display: flex;flex-direction: column;z-index: 1;position: relative;background-color: white;}#sk-container-id-3 div.sk-parallel-item:first-child::after {align-self: flex-end;width: 50%;}#sk-container-id-3 div.sk-parallel-item:last-child::after {align-self: flex-start;width: 50%;}#sk-container-id-3 div.sk-parallel-item:only-child::after {width: 0;}#sk-container-id-3 div.sk-dashed-wrapped {border: 1px dashed gray;margin: 0 0.4em 0.5em 0.4em;box-sizing: border-box;padding-bottom: 0.4em;background-color: white;}#sk-container-id-3 div.sk-label label {font-family: monospace;font-weight: bold;display: inline-block;line-height: 1.2em;}#sk-container-id-3 div.sk-label-container {text-align: center;}#sk-container-id-3 div.sk-container {/* jupyter's `normalize.less` sets `[hidden] { display: none; }` but bootstrap.min.css set `[hidden] { display: none !important; }` so we also need the `!important` here to be able to override the default hidden behavior on the sphinx rendered scikit-learn.org. See: https://github.com/scikit-learn/scikit-learn/issues/21755 */display: inline-block !important;position: relative;}#sk-container-id-3 div.sk-text-repr-fallback {display: none;}</style><div id=\"sk-container-id-3\" class=\"sk-top-container\"><div class=\"sk-text-repr-fallback\"><pre>RandomForestClassifier(max_depth=80, max_features=3, min_samples_leaf=3,\n",
       "                       min_samples_split=12, n_estimators=300, random_state=42)</pre><b>In a Jupyter environment, please rerun this cell to show the HTML representation or trust the notebook. <br />On GitHub, the HTML representation is unable to render, please try loading this page with nbviewer.org.</b></div><div class=\"sk-container\" hidden><div class=\"sk-item\"><div class=\"sk-estimator sk-toggleable\"><input class=\"sk-toggleable__control sk-hidden--visually\" id=\"sk-estimator-id-5\" type=\"checkbox\" checked><label for=\"sk-estimator-id-5\" class=\"sk-toggleable__label sk-toggleable__label-arrow\">RandomForestClassifier</label><div class=\"sk-toggleable__content\"><pre>RandomForestClassifier(max_depth=80, max_features=3, min_samples_leaf=3,\n",
       "                       min_samples_split=12, n_estimators=300, random_state=42)</pre></div></div></div></div></div>"
      ],
      "text/plain": [
       "RandomForestClassifier(max_depth=80, max_features=3, min_samples_leaf=3,\n",
       "                       min_samples_split=12, n_estimators=300, random_state=42)"
      ]
     },
     "execution_count": 44,
     "metadata": {},
     "output_type": "execute_result"
    }
   ],
   "source": [
    "model4.fit(X_train, y_train)"
   ]
  },
  {
   "cell_type": "code",
   "execution_count": 45,
   "id": "0b291579",
   "metadata": {
    "execution": {
     "iopub.execute_input": "2025-03-19T12:55:51.582023Z",
     "iopub.status.busy": "2025-03-19T12:55:51.581585Z",
     "iopub.status.idle": "2025-03-19T12:55:51.592026Z",
     "shell.execute_reply": "2025-03-19T12:55:51.590952Z"
    },
    "papermill": {
     "duration": 0.028936,
     "end_time": "2025-03-19T12:55:51.594532",
     "exception": false,
     "start_time": "2025-03-19T12:55:51.565596",
     "status": "completed"
    },
    "tags": []
   },
   "outputs": [],
   "source": [
    "y_pred4=model.predict(X_test)"
   ]
  },
  {
   "cell_type": "code",
   "execution_count": 46,
   "id": "6be7785d",
   "metadata": {
    "execution": {
     "iopub.execute_input": "2025-03-19T12:55:51.629714Z",
     "iopub.status.busy": "2025-03-19T12:55:51.629215Z",
     "iopub.status.idle": "2025-03-19T12:55:51.636443Z",
     "shell.execute_reply": "2025-03-19T12:55:51.635118Z"
    },
    "papermill": {
     "duration": 0.02547,
     "end_time": "2025-03-19T12:55:51.638425",
     "exception": false,
     "start_time": "2025-03-19T12:55:51.612955",
     "status": "completed"
    },
    "tags": []
   },
   "outputs": [
    {
     "name": "stdout",
     "output_type": "stream",
     "text": [
      "Accuracy: 0.9152542372881356\n"
     ]
    }
   ],
   "source": [
    "\n",
    "accuracy = accuracy_score(y_test, y_pred4)\n",
    "print(\"Accuracy:\", accuracy)"
   ]
  },
  {
   "cell_type": "code",
   "execution_count": 47,
   "id": "15d9a04c",
   "metadata": {
    "execution": {
     "iopub.execute_input": "2025-03-19T12:55:51.670423Z",
     "iopub.status.busy": "2025-03-19T12:55:51.669847Z",
     "iopub.status.idle": "2025-03-19T12:55:51.685315Z",
     "shell.execute_reply": "2025-03-19T12:55:51.683971Z"
    },
    "papermill": {
     "duration": 0.033842,
     "end_time": "2025-03-19T12:55:51.687442",
     "exception": false,
     "start_time": "2025-03-19T12:55:51.653600",
     "status": "completed"
    },
    "tags": []
   },
   "outputs": [
    {
     "name": "stdout",
     "output_type": "stream",
     "text": [
      "Precision: 0.6404761904761904\n",
      "Recall: 0.5104166666666666\n",
      "F1-Score: 0.5605302464525765\n"
     ]
    }
   ],
   "source": [
    "from sklearn.metrics import precision_score, recall_score, f1_score\n",
    "\n",
    "precision = precision_score(y_test, y_pred4, average='macro')  # or 'micro', 'weighted'\n",
    "recall = recall_score(y_test, y_pred4, average='macro')        # or 'micro', 'weighted'\n",
    "f1 = f1_score(y_test, y_pred4, average='macro')                # or 'micro', 'weighted'\n",
    "\n",
    "print(f\"Precision: {precision}\")\n",
    "print(f\"Recall: {recall}\")\n",
    "print(f\"F1-Score: {f1}\")\n"
   ]
  },
  {
   "cell_type": "markdown",
   "id": "3f9b9d02",
   "metadata": {
    "papermill": {
     "duration": 0.014489,
     "end_time": "2025-03-19T12:55:51.717134",
     "exception": false,
     "start_time": "2025-03-19T12:55:51.702645",
     "status": "completed"
    },
    "tags": []
   },
   "source": [
    "# CONCLUSION \n",
    "the best model is SVC with Best parameters: {'C': 10, 'gamma': 'scale', 'kernel': 'rbf'}\n"
   ]
  }
 ],
 "metadata": {
  "kaggle": {
   "accelerator": "none",
   "dataSources": [
    {
     "datasetId": 1051216,
     "sourceId": 1768479,
     "sourceType": "datasetVersion"
    }
   ],
   "dockerImageVersionId": 30918,
   "isGpuEnabled": false,
   "isInternetEnabled": true,
   "language": "python",
   "sourceType": "notebook"
  },
  "kernelspec": {
   "display_name": "Python 3",
   "language": "python",
   "name": "python3"
  },
  "language_info": {
   "codemirror_mode": {
    "name": "ipython",
    "version": 3
   },
   "file_extension": ".py",
   "mimetype": "text/x-python",
   "name": "python",
   "nbconvert_exporter": "python",
   "pygments_lexer": "ipython3",
   "version": "3.10.12"
  },
  "papermill": {
   "default_parameters": {},
   "duration": 56.813721,
   "end_time": "2025-03-19T12:55:52.856145",
   "environment_variables": {},
   "exception": null,
   "input_path": "__notebook__.ipynb",
   "output_path": "__notebook__.ipynb",
   "parameters": {},
   "start_time": "2025-03-19T12:54:56.042424",
   "version": "2.6.0"
  }
 },
 "nbformat": 4,
 "nbformat_minor": 5
}

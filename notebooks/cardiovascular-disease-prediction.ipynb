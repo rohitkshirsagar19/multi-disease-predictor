{
 "cells": [
  {
   "cell_type": "markdown",
   "id": "5b8b6732",
   "metadata": {
    "papermill": {
     "duration": 0.006173,
     "end_time": "2025-03-19T15:07:50.180910",
     "exception": false,
     "start_time": "2025-03-19T15:07:50.174737",
     "status": "completed"
    },
    "tags": []
   },
   "source": [
    "# Importing basic libraries"
   ]
  },
  {
   "cell_type": "code",
   "execution_count": 1,
   "id": "fd5d28f8",
   "metadata": {
    "_cell_guid": "b1076dfc-b9ad-4769-8c92-a6c4dae69d19",
    "_uuid": "8f2839f25d086af736a60e9eeb907d3b93b6e0e5",
    "execution": {
     "iopub.execute_input": "2025-03-19T15:07:50.193280Z",
     "iopub.status.busy": "2025-03-19T15:07:50.192903Z",
     "iopub.status.idle": "2025-03-19T15:07:52.995376Z",
     "shell.execute_reply": "2025-03-19T15:07:52.994254Z"
    },
    "papermill": {
     "duration": 2.811048,
     "end_time": "2025-03-19T15:07:52.997558",
     "exception": false,
     "start_time": "2025-03-19T15:07:50.186510",
     "status": "completed"
    },
    "tags": []
   },
   "outputs": [],
   "source": [
    "import pandas as pd\n",
    "import matplotlib.pyplot as plt\n",
    "import seaborn as sns"
   ]
  },
  {
   "cell_type": "code",
   "execution_count": 2,
   "id": "c9aeb24b",
   "metadata": {
    "execution": {
     "iopub.execute_input": "2025-03-19T15:07:53.010742Z",
     "iopub.status.busy": "2025-03-19T15:07:53.010196Z",
     "iopub.status.idle": "2025-03-19T15:07:53.185194Z",
     "shell.execute_reply": "2025-03-19T15:07:53.183934Z"
    },
    "papermill": {
     "duration": 0.183572,
     "end_time": "2025-03-19T15:07:53.187149",
     "exception": false,
     "start_time": "2025-03-19T15:07:53.003577",
     "status": "completed"
    },
    "tags": []
   },
   "outputs": [
    {
     "data": {
      "text/html": [
       "<div>\n",
       "<style scoped>\n",
       "    .dataframe tbody tr th:only-of-type {\n",
       "        vertical-align: middle;\n",
       "    }\n",
       "\n",
       "    .dataframe tbody tr th {\n",
       "        vertical-align: top;\n",
       "    }\n",
       "\n",
       "    .dataframe thead th {\n",
       "        text-align: right;\n",
       "    }\n",
       "</style>\n",
       "<table border=\"1\" class=\"dataframe\">\n",
       "  <thead>\n",
       "    <tr style=\"text-align: right;\">\n",
       "      <th></th>\n",
       "      <th>id</th>\n",
       "      <th>age</th>\n",
       "      <th>gender</th>\n",
       "      <th>height</th>\n",
       "      <th>weight</th>\n",
       "      <th>ap_hi</th>\n",
       "      <th>ap_lo</th>\n",
       "      <th>cholesterol</th>\n",
       "      <th>gluc</th>\n",
       "      <th>smoke</th>\n",
       "      <th>alco</th>\n",
       "      <th>active</th>\n",
       "      <th>cardio</th>\n",
       "    </tr>\n",
       "  </thead>\n",
       "  <tbody>\n",
       "    <tr>\n",
       "      <th>0</th>\n",
       "      <td>0</td>\n",
       "      <td>18393</td>\n",
       "      <td>2</td>\n",
       "      <td>168</td>\n",
       "      <td>62.0</td>\n",
       "      <td>110</td>\n",
       "      <td>80</td>\n",
       "      <td>1</td>\n",
       "      <td>1</td>\n",
       "      <td>0</td>\n",
       "      <td>0</td>\n",
       "      <td>1</td>\n",
       "      <td>0</td>\n",
       "    </tr>\n",
       "    <tr>\n",
       "      <th>1</th>\n",
       "      <td>1</td>\n",
       "      <td>20228</td>\n",
       "      <td>1</td>\n",
       "      <td>156</td>\n",
       "      <td>85.0</td>\n",
       "      <td>140</td>\n",
       "      <td>90</td>\n",
       "      <td>3</td>\n",
       "      <td>1</td>\n",
       "      <td>0</td>\n",
       "      <td>0</td>\n",
       "      <td>1</td>\n",
       "      <td>1</td>\n",
       "    </tr>\n",
       "    <tr>\n",
       "      <th>2</th>\n",
       "      <td>2</td>\n",
       "      <td>18857</td>\n",
       "      <td>1</td>\n",
       "      <td>165</td>\n",
       "      <td>64.0</td>\n",
       "      <td>130</td>\n",
       "      <td>70</td>\n",
       "      <td>3</td>\n",
       "      <td>1</td>\n",
       "      <td>0</td>\n",
       "      <td>0</td>\n",
       "      <td>0</td>\n",
       "      <td>1</td>\n",
       "    </tr>\n",
       "  </tbody>\n",
       "</table>\n",
       "</div>"
      ],
      "text/plain": [
       "   id    age  gender  height  weight  ap_hi  ap_lo  cholesterol  gluc  smoke  \\\n",
       "0   0  18393       2     168    62.0    110     80            1     1      0   \n",
       "1   1  20228       1     156    85.0    140     90            3     1      0   \n",
       "2   2  18857       1     165    64.0    130     70            3     1      0   \n",
       "\n",
       "   alco  active  cardio  \n",
       "0     0       1       0  \n",
       "1     0       1       1  \n",
       "2     0       0       1  "
      ]
     },
     "execution_count": 2,
     "metadata": {},
     "output_type": "execute_result"
    }
   ],
   "source": [
    "data = pd.read_csv(\"/kaggle/input/cardiovascular-disease-dataset/cardio_train.csv\", sep=\";\")\n",
    "data.head(3)"
   ]
  },
  {
   "cell_type": "markdown",
   "id": "fc711a54",
   "metadata": {
    "papermill": {
     "duration": 0.005439,
     "end_time": "2025-03-19T15:07:53.198527",
     "exception": false,
     "start_time": "2025-03-19T15:07:53.193088",
     "status": "completed"
    },
    "tags": []
   },
   "source": [
    "# Basic EDA\n"
   ]
  },
  {
   "cell_type": "code",
   "execution_count": 3,
   "id": "5e116c98",
   "metadata": {
    "execution": {
     "iopub.execute_input": "2025-03-19T15:07:53.211219Z",
     "iopub.status.busy": "2025-03-19T15:07:53.210866Z",
     "iopub.status.idle": "2025-03-19T15:07:53.216980Z",
     "shell.execute_reply": "2025-03-19T15:07:53.215796Z"
    },
    "papermill": {
     "duration": 0.014836,
     "end_time": "2025-03-19T15:07:53.218948",
     "exception": false,
     "start_time": "2025-03-19T15:07:53.204112",
     "status": "completed"
    },
    "tags": []
   },
   "outputs": [
    {
     "data": {
      "text/plain": [
       "(70000, 13)"
      ]
     },
     "execution_count": 3,
     "metadata": {},
     "output_type": "execute_result"
    }
   ],
   "source": [
    "data.shape"
   ]
  },
  {
   "cell_type": "code",
   "execution_count": 4,
   "id": "9cd318e4",
   "metadata": {
    "execution": {
     "iopub.execute_input": "2025-03-19T15:07:53.232390Z",
     "iopub.status.busy": "2025-03-19T15:07:53.232029Z",
     "iopub.status.idle": "2025-03-19T15:07:53.278858Z",
     "shell.execute_reply": "2025-03-19T15:07:53.277476Z"
    },
    "papermill": {
     "duration": 0.05569,
     "end_time": "2025-03-19T15:07:53.280773",
     "exception": false,
     "start_time": "2025-03-19T15:07:53.225083",
     "status": "completed"
    },
    "tags": []
   },
   "outputs": [
    {
     "data": {
      "text/plain": [
       "(69976, 12)"
      ]
     },
     "execution_count": 4,
     "metadata": {},
     "output_type": "execute_result"
    }
   ],
   "source": [
    "data.drop('id',axis=1,inplace=True)\n",
    "data.drop_duplicates(inplace=True)\n",
    "data.shape"
   ]
  },
  {
   "cell_type": "code",
   "execution_count": 5,
   "id": "6cc55d93",
   "metadata": {
    "execution": {
     "iopub.execute_input": "2025-03-19T15:07:53.294394Z",
     "iopub.status.busy": "2025-03-19T15:07:53.293980Z",
     "iopub.status.idle": "2025-03-19T15:07:53.300161Z",
     "shell.execute_reply": "2025-03-19T15:07:53.299151Z"
    },
    "papermill": {
     "duration": 0.01496,
     "end_time": "2025-03-19T15:07:53.301885",
     "exception": false,
     "start_time": "2025-03-19T15:07:53.286925",
     "status": "completed"
    },
    "tags": []
   },
   "outputs": [],
   "source": [
    "data['age']=data['age']/365"
   ]
  },
  {
   "cell_type": "code",
   "execution_count": 6,
   "id": "2826c756",
   "metadata": {
    "execution": {
     "iopub.execute_input": "2025-03-19T15:07:53.315586Z",
     "iopub.status.busy": "2025-03-19T15:07:53.315179Z",
     "iopub.status.idle": "2025-03-19T15:07:53.327867Z",
     "shell.execute_reply": "2025-03-19T15:07:53.326614Z"
    },
    "papermill": {
     "duration": 0.021778,
     "end_time": "2025-03-19T15:07:53.329891",
     "exception": false,
     "start_time": "2025-03-19T15:07:53.308113",
     "status": "completed"
    },
    "tags": []
   },
   "outputs": [
    {
     "data": {
      "text/html": [
       "<div>\n",
       "<style scoped>\n",
       "    .dataframe tbody tr th:only-of-type {\n",
       "        vertical-align: middle;\n",
       "    }\n",
       "\n",
       "    .dataframe tbody tr th {\n",
       "        vertical-align: top;\n",
       "    }\n",
       "\n",
       "    .dataframe thead th {\n",
       "        text-align: right;\n",
       "    }\n",
       "</style>\n",
       "<table border=\"1\" class=\"dataframe\">\n",
       "  <thead>\n",
       "    <tr style=\"text-align: right;\">\n",
       "      <th></th>\n",
       "      <th>age</th>\n",
       "      <th>gender</th>\n",
       "      <th>height</th>\n",
       "      <th>weight</th>\n",
       "      <th>ap_hi</th>\n",
       "      <th>ap_lo</th>\n",
       "      <th>cholesterol</th>\n",
       "      <th>gluc</th>\n",
       "      <th>smoke</th>\n",
       "      <th>alco</th>\n",
       "      <th>active</th>\n",
       "      <th>cardio</th>\n",
       "    </tr>\n",
       "  </thead>\n",
       "  <tbody>\n",
       "    <tr>\n",
       "      <th>0</th>\n",
       "      <td>50.391781</td>\n",
       "      <td>2</td>\n",
       "      <td>168</td>\n",
       "      <td>62.0</td>\n",
       "      <td>110</td>\n",
       "      <td>80</td>\n",
       "      <td>1</td>\n",
       "      <td>1</td>\n",
       "      <td>0</td>\n",
       "      <td>0</td>\n",
       "      <td>1</td>\n",
       "      <td>0</td>\n",
       "    </tr>\n",
       "    <tr>\n",
       "      <th>1</th>\n",
       "      <td>55.419178</td>\n",
       "      <td>1</td>\n",
       "      <td>156</td>\n",
       "      <td>85.0</td>\n",
       "      <td>140</td>\n",
       "      <td>90</td>\n",
       "      <td>3</td>\n",
       "      <td>1</td>\n",
       "      <td>0</td>\n",
       "      <td>0</td>\n",
       "      <td>1</td>\n",
       "      <td>1</td>\n",
       "    </tr>\n",
       "  </tbody>\n",
       "</table>\n",
       "</div>"
      ],
      "text/plain": [
       "         age  gender  height  weight  ap_hi  ap_lo  cholesterol  gluc  smoke  \\\n",
       "0  50.391781       2     168    62.0    110     80            1     1      0   \n",
       "1  55.419178       1     156    85.0    140     90            3     1      0   \n",
       "\n",
       "   alco  active  cardio  \n",
       "0     0       1       0  \n",
       "1     0       1       1  "
      ]
     },
     "execution_count": 6,
     "metadata": {},
     "output_type": "execute_result"
    }
   ],
   "source": [
    "data.head(2)"
   ]
  },
  {
   "cell_type": "code",
   "execution_count": 7,
   "id": "2c012e93",
   "metadata": {
    "execution": {
     "iopub.execute_input": "2025-03-19T15:07:53.344170Z",
     "iopub.status.busy": "2025-03-19T15:07:53.343774Z",
     "iopub.status.idle": "2025-03-19T15:07:53.374187Z",
     "shell.execute_reply": "2025-03-19T15:07:53.372967Z"
    },
    "papermill": {
     "duration": 0.040205,
     "end_time": "2025-03-19T15:07:53.376483",
     "exception": false,
     "start_time": "2025-03-19T15:07:53.336278",
     "status": "completed"
    },
    "tags": []
   },
   "outputs": [
    {
     "data": {
      "text/html": [
       "<div>\n",
       "<style scoped>\n",
       "    .dataframe tbody tr th:only-of-type {\n",
       "        vertical-align: middle;\n",
       "    }\n",
       "\n",
       "    .dataframe tbody tr th {\n",
       "        vertical-align: top;\n",
       "    }\n",
       "\n",
       "    .dataframe thead th {\n",
       "        text-align: right;\n",
       "    }\n",
       "</style>\n",
       "<table border=\"1\" class=\"dataframe\">\n",
       "  <thead>\n",
       "    <tr style=\"text-align: right;\">\n",
       "      <th></th>\n",
       "      <th>age</th>\n",
       "      <th>gender</th>\n",
       "      <th>height</th>\n",
       "      <th>weight</th>\n",
       "      <th>ap_hi</th>\n",
       "      <th>ap_lo</th>\n",
       "      <th>cholesterol</th>\n",
       "      <th>gluc</th>\n",
       "      <th>smoke</th>\n",
       "      <th>alco</th>\n",
       "      <th>active</th>\n",
       "      <th>cardio</th>\n",
       "    </tr>\n",
       "  </thead>\n",
       "  <tbody>\n",
       "    <tr>\n",
       "      <th>0</th>\n",
       "      <td>50</td>\n",
       "      <td>2</td>\n",
       "      <td>168</td>\n",
       "      <td>62</td>\n",
       "      <td>110</td>\n",
       "      <td>80</td>\n",
       "      <td>1</td>\n",
       "      <td>1</td>\n",
       "      <td>0</td>\n",
       "      <td>0</td>\n",
       "      <td>1</td>\n",
       "      <td>0</td>\n",
       "    </tr>\n",
       "    <tr>\n",
       "      <th>1</th>\n",
       "      <td>55</td>\n",
       "      <td>1</td>\n",
       "      <td>156</td>\n",
       "      <td>85</td>\n",
       "      <td>140</td>\n",
       "      <td>90</td>\n",
       "      <td>3</td>\n",
       "      <td>1</td>\n",
       "      <td>0</td>\n",
       "      <td>0</td>\n",
       "      <td>1</td>\n",
       "      <td>1</td>\n",
       "    </tr>\n",
       "    <tr>\n",
       "      <th>2</th>\n",
       "      <td>51</td>\n",
       "      <td>1</td>\n",
       "      <td>165</td>\n",
       "      <td>64</td>\n",
       "      <td>130</td>\n",
       "      <td>70</td>\n",
       "      <td>3</td>\n",
       "      <td>1</td>\n",
       "      <td>0</td>\n",
       "      <td>0</td>\n",
       "      <td>0</td>\n",
       "      <td>1</td>\n",
       "    </tr>\n",
       "  </tbody>\n",
       "</table>\n",
       "</div>"
      ],
      "text/plain": [
       "   age  gender  height  weight  ap_hi  ap_lo  cholesterol  gluc  smoke  alco  \\\n",
       "0   50       2     168      62    110     80            1     1      0     0   \n",
       "1   55       1     156      85    140     90            3     1      0     0   \n",
       "2   51       1     165      64    130     70            3     1      0     0   \n",
       "\n",
       "   active  cardio  \n",
       "0       1       0  \n",
       "1       1       1  \n",
       "2       0       1  "
      ]
     },
     "execution_count": 7,
     "metadata": {},
     "output_type": "execute_result"
    }
   ],
   "source": [
    "data = data.astype({'age':'int'})\n",
    "data = data.astype({'weight':'int'})\n",
    "data.head(3)"
   ]
  },
  {
   "cell_type": "code",
   "execution_count": 8,
   "id": "2d9dd8ac",
   "metadata": {
    "execution": {
     "iopub.execute_input": "2025-03-19T15:07:53.390986Z",
     "iopub.status.busy": "2025-03-19T15:07:53.390598Z",
     "iopub.status.idle": "2025-03-19T15:07:53.413847Z",
     "shell.execute_reply": "2025-03-19T15:07:53.412355Z"
    },
    "papermill": {
     "duration": 0.033142,
     "end_time": "2025-03-19T15:07:53.416216",
     "exception": false,
     "start_time": "2025-03-19T15:07:53.383074",
     "status": "completed"
    },
    "tags": []
   },
   "outputs": [
    {
     "name": "stdout",
     "output_type": "stream",
     "text": [
      "<class 'pandas.core.frame.DataFrame'>\n",
      "Index: 69976 entries, 0 to 69999\n",
      "Data columns (total 12 columns):\n",
      " #   Column       Non-Null Count  Dtype\n",
      "---  ------       --------------  -----\n",
      " 0   age          69976 non-null  int64\n",
      " 1   gender       69976 non-null  int64\n",
      " 2   height       69976 non-null  int64\n",
      " 3   weight       69976 non-null  int64\n",
      " 4   ap_hi        69976 non-null  int64\n",
      " 5   ap_lo        69976 non-null  int64\n",
      " 6   cholesterol  69976 non-null  int64\n",
      " 7   gluc         69976 non-null  int64\n",
      " 8   smoke        69976 non-null  int64\n",
      " 9   alco         69976 non-null  int64\n",
      " 10  active       69976 non-null  int64\n",
      " 11  cardio       69976 non-null  int64\n",
      "dtypes: int64(12)\n",
      "memory usage: 6.9 MB\n"
     ]
    }
   ],
   "source": [
    "data.info()"
   ]
  },
  {
   "cell_type": "code",
   "execution_count": 9,
   "id": "a6b49a76",
   "metadata": {
    "execution": {
     "iopub.execute_input": "2025-03-19T15:07:53.430659Z",
     "iopub.status.busy": "2025-03-19T15:07:53.430195Z",
     "iopub.status.idle": "2025-03-19T15:07:53.509138Z",
     "shell.execute_reply": "2025-03-19T15:07:53.507789Z"
    },
    "papermill": {
     "duration": 0.088407,
     "end_time": "2025-03-19T15:07:53.511313",
     "exception": false,
     "start_time": "2025-03-19T15:07:53.422906",
     "status": "completed"
    },
    "tags": []
   },
   "outputs": [
    {
     "data": {
      "text/html": [
       "<div>\n",
       "<style scoped>\n",
       "    .dataframe tbody tr th:only-of-type {\n",
       "        vertical-align: middle;\n",
       "    }\n",
       "\n",
       "    .dataframe tbody tr th {\n",
       "        vertical-align: top;\n",
       "    }\n",
       "\n",
       "    .dataframe thead th {\n",
       "        text-align: right;\n",
       "    }\n",
       "</style>\n",
       "<table border=\"1\" class=\"dataframe\">\n",
       "  <thead>\n",
       "    <tr style=\"text-align: right;\">\n",
       "      <th></th>\n",
       "      <th>age</th>\n",
       "      <th>gender</th>\n",
       "      <th>height</th>\n",
       "      <th>weight</th>\n",
       "      <th>ap_hi</th>\n",
       "      <th>ap_lo</th>\n",
       "      <th>cholesterol</th>\n",
       "      <th>gluc</th>\n",
       "      <th>smoke</th>\n",
       "      <th>alco</th>\n",
       "      <th>active</th>\n",
       "      <th>cardio</th>\n",
       "    </tr>\n",
       "  </thead>\n",
       "  <tbody>\n",
       "    <tr>\n",
       "      <th>count</th>\n",
       "      <td>69976.000000</td>\n",
       "      <td>69976.000000</td>\n",
       "      <td>69976.000000</td>\n",
       "      <td>69976.000000</td>\n",
       "      <td>69976.000000</td>\n",
       "      <td>69976.000000</td>\n",
       "      <td>69976.000000</td>\n",
       "      <td>69976.000000</td>\n",
       "      <td>69976.000000</td>\n",
       "      <td>69976.000000</td>\n",
       "      <td>69976.000000</td>\n",
       "      <td>69976.000000</td>\n",
       "    </tr>\n",
       "    <tr>\n",
       "      <th>mean</th>\n",
       "      <td>52.840874</td>\n",
       "      <td>1.349648</td>\n",
       "      <td>164.359152</td>\n",
       "      <td>74.207157</td>\n",
       "      <td>128.820453</td>\n",
       "      <td>96.636261</td>\n",
       "      <td>1.366997</td>\n",
       "      <td>1.226535</td>\n",
       "      <td>0.088159</td>\n",
       "      <td>0.053790</td>\n",
       "      <td>0.803718</td>\n",
       "      <td>0.499771</td>\n",
       "    </tr>\n",
       "    <tr>\n",
       "      <th>std</th>\n",
       "      <td>6.767103</td>\n",
       "      <td>0.476862</td>\n",
       "      <td>8.211218</td>\n",
       "      <td>14.397407</td>\n",
       "      <td>154.037729</td>\n",
       "      <td>188.504581</td>\n",
       "      <td>0.680333</td>\n",
       "      <td>0.572353</td>\n",
       "      <td>0.283528</td>\n",
       "      <td>0.225604</td>\n",
       "      <td>0.397187</td>\n",
       "      <td>0.500004</td>\n",
       "    </tr>\n",
       "    <tr>\n",
       "      <th>min</th>\n",
       "      <td>29.000000</td>\n",
       "      <td>1.000000</td>\n",
       "      <td>55.000000</td>\n",
       "      <td>10.000000</td>\n",
       "      <td>-150.000000</td>\n",
       "      <td>-70.000000</td>\n",
       "      <td>1.000000</td>\n",
       "      <td>1.000000</td>\n",
       "      <td>0.000000</td>\n",
       "      <td>0.000000</td>\n",
       "      <td>0.000000</td>\n",
       "      <td>0.000000</td>\n",
       "    </tr>\n",
       "    <tr>\n",
       "      <th>25%</th>\n",
       "      <td>48.000000</td>\n",
       "      <td>1.000000</td>\n",
       "      <td>159.000000</td>\n",
       "      <td>65.000000</td>\n",
       "      <td>120.000000</td>\n",
       "      <td>80.000000</td>\n",
       "      <td>1.000000</td>\n",
       "      <td>1.000000</td>\n",
       "      <td>0.000000</td>\n",
       "      <td>0.000000</td>\n",
       "      <td>1.000000</td>\n",
       "      <td>0.000000</td>\n",
       "    </tr>\n",
       "    <tr>\n",
       "      <th>50%</th>\n",
       "      <td>53.000000</td>\n",
       "      <td>1.000000</td>\n",
       "      <td>165.000000</td>\n",
       "      <td>72.000000</td>\n",
       "      <td>120.000000</td>\n",
       "      <td>80.000000</td>\n",
       "      <td>1.000000</td>\n",
       "      <td>1.000000</td>\n",
       "      <td>0.000000</td>\n",
       "      <td>0.000000</td>\n",
       "      <td>1.000000</td>\n",
       "      <td>0.000000</td>\n",
       "    </tr>\n",
       "    <tr>\n",
       "      <th>75%</th>\n",
       "      <td>58.000000</td>\n",
       "      <td>2.000000</td>\n",
       "      <td>170.000000</td>\n",
       "      <td>82.000000</td>\n",
       "      <td>140.000000</td>\n",
       "      <td>90.000000</td>\n",
       "      <td>2.000000</td>\n",
       "      <td>1.000000</td>\n",
       "      <td>0.000000</td>\n",
       "      <td>0.000000</td>\n",
       "      <td>1.000000</td>\n",
       "      <td>1.000000</td>\n",
       "    </tr>\n",
       "    <tr>\n",
       "      <th>max</th>\n",
       "      <td>64.000000</td>\n",
       "      <td>2.000000</td>\n",
       "      <td>250.000000</td>\n",
       "      <td>200.000000</td>\n",
       "      <td>16020.000000</td>\n",
       "      <td>11000.000000</td>\n",
       "      <td>3.000000</td>\n",
       "      <td>3.000000</td>\n",
       "      <td>1.000000</td>\n",
       "      <td>1.000000</td>\n",
       "      <td>1.000000</td>\n",
       "      <td>1.000000</td>\n",
       "    </tr>\n",
       "  </tbody>\n",
       "</table>\n",
       "</div>"
      ],
      "text/plain": [
       "                age        gender        height        weight         ap_hi  \\\n",
       "count  69976.000000  69976.000000  69976.000000  69976.000000  69976.000000   \n",
       "mean      52.840874      1.349648    164.359152     74.207157    128.820453   \n",
       "std        6.767103      0.476862      8.211218     14.397407    154.037729   \n",
       "min       29.000000      1.000000     55.000000     10.000000   -150.000000   \n",
       "25%       48.000000      1.000000    159.000000     65.000000    120.000000   \n",
       "50%       53.000000      1.000000    165.000000     72.000000    120.000000   \n",
       "75%       58.000000      2.000000    170.000000     82.000000    140.000000   \n",
       "max       64.000000      2.000000    250.000000    200.000000  16020.000000   \n",
       "\n",
       "              ap_lo   cholesterol          gluc         smoke          alco  \\\n",
       "count  69976.000000  69976.000000  69976.000000  69976.000000  69976.000000   \n",
       "mean      96.636261      1.366997      1.226535      0.088159      0.053790   \n",
       "std      188.504581      0.680333      0.572353      0.283528      0.225604   \n",
       "min      -70.000000      1.000000      1.000000      0.000000      0.000000   \n",
       "25%       80.000000      1.000000      1.000000      0.000000      0.000000   \n",
       "50%       80.000000      1.000000      1.000000      0.000000      0.000000   \n",
       "75%       90.000000      2.000000      1.000000      0.000000      0.000000   \n",
       "max    11000.000000      3.000000      3.000000      1.000000      1.000000   \n",
       "\n",
       "             active        cardio  \n",
       "count  69976.000000  69976.000000  \n",
       "mean       0.803718      0.499771  \n",
       "std        0.397187      0.500004  \n",
       "min        0.000000      0.000000  \n",
       "25%        1.000000      0.000000  \n",
       "50%        1.000000      0.000000  \n",
       "75%        1.000000      1.000000  \n",
       "max        1.000000      1.000000  "
      ]
     },
     "execution_count": 9,
     "metadata": {},
     "output_type": "execute_result"
    }
   ],
   "source": [
    "data.describe()"
   ]
  },
  {
   "cell_type": "code",
   "execution_count": 10,
   "id": "16e1562b",
   "metadata": {
    "execution": {
     "iopub.execute_input": "2025-03-19T15:07:53.526318Z",
     "iopub.status.busy": "2025-03-19T15:07:53.525940Z",
     "iopub.status.idle": "2025-03-19T15:07:53.538037Z",
     "shell.execute_reply": "2025-03-19T15:07:53.536862Z"
    },
    "papermill": {
     "duration": 0.021995,
     "end_time": "2025-03-19T15:07:53.540258",
     "exception": false,
     "start_time": "2025-03-19T15:07:53.518263",
     "status": "completed"
    },
    "tags": []
   },
   "outputs": [],
   "source": [
    "out_filter = ((data[\"ap_hi\"]>250) | (data[\"ap_lo\"]>200))\n",
    "data = data[~out_filter]"
   ]
  },
  {
   "cell_type": "code",
   "execution_count": 11,
   "id": "1eb659f5",
   "metadata": {
    "execution": {
     "iopub.execute_input": "2025-03-19T15:07:53.555578Z",
     "iopub.status.busy": "2025-03-19T15:07:53.555151Z",
     "iopub.status.idle": "2025-03-19T15:07:53.561694Z",
     "shell.execute_reply": "2025-03-19T15:07:53.560582Z"
    },
    "papermill": {
     "duration": 0.01635,
     "end_time": "2025-03-19T15:07:53.563650",
     "exception": false,
     "start_time": "2025-03-19T15:07:53.547300",
     "status": "completed"
    },
    "tags": []
   },
   "outputs": [
    {
     "data": {
      "text/plain": [
       "(68983, 12)"
      ]
     },
     "execution_count": 11,
     "metadata": {},
     "output_type": "execute_result"
    }
   ],
   "source": [
    "data.shape"
   ]
  },
  {
   "cell_type": "code",
   "execution_count": 12,
   "id": "35633851",
   "metadata": {
    "execution": {
     "iopub.execute_input": "2025-03-19T15:07:53.579081Z",
     "iopub.status.busy": "2025-03-19T15:07:53.578712Z",
     "iopub.status.idle": "2025-03-19T15:07:53.651741Z",
     "shell.execute_reply": "2025-03-19T15:07:53.650699Z"
    },
    "papermill": {
     "duration": 0.083294,
     "end_time": "2025-03-19T15:07:53.654179",
     "exception": false,
     "start_time": "2025-03-19T15:07:53.570885",
     "status": "completed"
    },
    "tags": []
   },
   "outputs": [
    {
     "data": {
      "text/html": [
       "<div>\n",
       "<style scoped>\n",
       "    .dataframe tbody tr th:only-of-type {\n",
       "        vertical-align: middle;\n",
       "    }\n",
       "\n",
       "    .dataframe tbody tr th {\n",
       "        vertical-align: top;\n",
       "    }\n",
       "\n",
       "    .dataframe thead th {\n",
       "        text-align: right;\n",
       "    }\n",
       "</style>\n",
       "<table border=\"1\" class=\"dataframe\">\n",
       "  <thead>\n",
       "    <tr style=\"text-align: right;\">\n",
       "      <th></th>\n",
       "      <th>age</th>\n",
       "      <th>gender</th>\n",
       "      <th>height</th>\n",
       "      <th>weight</th>\n",
       "      <th>ap_hi</th>\n",
       "      <th>ap_lo</th>\n",
       "      <th>cholesterol</th>\n",
       "      <th>gluc</th>\n",
       "      <th>smoke</th>\n",
       "      <th>alco</th>\n",
       "      <th>active</th>\n",
       "      <th>cardio</th>\n",
       "    </tr>\n",
       "  </thead>\n",
       "  <tbody>\n",
       "    <tr>\n",
       "      <th>count</th>\n",
       "      <td>68983.000000</td>\n",
       "      <td>68983.000000</td>\n",
       "      <td>68983.000000</td>\n",
       "      <td>68983.000000</td>\n",
       "      <td>68983.000000</td>\n",
       "      <td>68983.000000</td>\n",
       "      <td>68983.000000</td>\n",
       "      <td>68983.000000</td>\n",
       "      <td>68983.000000</td>\n",
       "      <td>68983.000000</td>\n",
       "      <td>68983.000000</td>\n",
       "      <td>68983.000000</td>\n",
       "    </tr>\n",
       "    <tr>\n",
       "      <th>mean</th>\n",
       "      <td>52.826899</td>\n",
       "      <td>1.348811</td>\n",
       "      <td>164.359523</td>\n",
       "      <td>74.119276</td>\n",
       "      <td>126.298160</td>\n",
       "      <td>81.332111</td>\n",
       "      <td>1.364496</td>\n",
       "      <td>1.225911</td>\n",
       "      <td>0.087891</td>\n",
       "      <td>0.053607</td>\n",
       "      <td>0.803270</td>\n",
       "      <td>0.494948</td>\n",
       "    </tr>\n",
       "    <tr>\n",
       "      <th>std</th>\n",
       "      <td>6.770369</td>\n",
       "      <td>0.476597</td>\n",
       "      <td>8.205082</td>\n",
       "      <td>14.330110</td>\n",
       "      <td>17.889741</td>\n",
       "      <td>9.890964</td>\n",
       "      <td>0.678761</td>\n",
       "      <td>0.571868</td>\n",
       "      <td>0.283139</td>\n",
       "      <td>0.225243</td>\n",
       "      <td>0.397529</td>\n",
       "      <td>0.499978</td>\n",
       "    </tr>\n",
       "    <tr>\n",
       "      <th>min</th>\n",
       "      <td>29.000000</td>\n",
       "      <td>1.000000</td>\n",
       "      <td>55.000000</td>\n",
       "      <td>11.000000</td>\n",
       "      <td>-150.000000</td>\n",
       "      <td>-70.000000</td>\n",
       "      <td>1.000000</td>\n",
       "      <td>1.000000</td>\n",
       "      <td>0.000000</td>\n",
       "      <td>0.000000</td>\n",
       "      <td>0.000000</td>\n",
       "      <td>0.000000</td>\n",
       "    </tr>\n",
       "    <tr>\n",
       "      <th>25%</th>\n",
       "      <td>48.000000</td>\n",
       "      <td>1.000000</td>\n",
       "      <td>159.000000</td>\n",
       "      <td>65.000000</td>\n",
       "      <td>120.000000</td>\n",
       "      <td>80.000000</td>\n",
       "      <td>1.000000</td>\n",
       "      <td>1.000000</td>\n",
       "      <td>0.000000</td>\n",
       "      <td>0.000000</td>\n",
       "      <td>1.000000</td>\n",
       "      <td>0.000000</td>\n",
       "    </tr>\n",
       "    <tr>\n",
       "      <th>50%</th>\n",
       "      <td>53.000000</td>\n",
       "      <td>1.000000</td>\n",
       "      <td>165.000000</td>\n",
       "      <td>72.000000</td>\n",
       "      <td>120.000000</td>\n",
       "      <td>80.000000</td>\n",
       "      <td>1.000000</td>\n",
       "      <td>1.000000</td>\n",
       "      <td>0.000000</td>\n",
       "      <td>0.000000</td>\n",
       "      <td>1.000000</td>\n",
       "      <td>0.000000</td>\n",
       "    </tr>\n",
       "    <tr>\n",
       "      <th>75%</th>\n",
       "      <td>58.000000</td>\n",
       "      <td>2.000000</td>\n",
       "      <td>170.000000</td>\n",
       "      <td>82.000000</td>\n",
       "      <td>140.000000</td>\n",
       "      <td>90.000000</td>\n",
       "      <td>1.000000</td>\n",
       "      <td>1.000000</td>\n",
       "      <td>0.000000</td>\n",
       "      <td>0.000000</td>\n",
       "      <td>1.000000</td>\n",
       "      <td>1.000000</td>\n",
       "    </tr>\n",
       "    <tr>\n",
       "      <th>max</th>\n",
       "      <td>64.000000</td>\n",
       "      <td>2.000000</td>\n",
       "      <td>250.000000</td>\n",
       "      <td>200.000000</td>\n",
       "      <td>240.000000</td>\n",
       "      <td>190.000000</td>\n",
       "      <td>3.000000</td>\n",
       "      <td>3.000000</td>\n",
       "      <td>1.000000</td>\n",
       "      <td>1.000000</td>\n",
       "      <td>1.000000</td>\n",
       "      <td>1.000000</td>\n",
       "    </tr>\n",
       "  </tbody>\n",
       "</table>\n",
       "</div>"
      ],
      "text/plain": [
       "                age        gender        height        weight         ap_hi  \\\n",
       "count  68983.000000  68983.000000  68983.000000  68983.000000  68983.000000   \n",
       "mean      52.826899      1.348811    164.359523     74.119276    126.298160   \n",
       "std        6.770369      0.476597      8.205082     14.330110     17.889741   \n",
       "min       29.000000      1.000000     55.000000     11.000000   -150.000000   \n",
       "25%       48.000000      1.000000    159.000000     65.000000    120.000000   \n",
       "50%       53.000000      1.000000    165.000000     72.000000    120.000000   \n",
       "75%       58.000000      2.000000    170.000000     82.000000    140.000000   \n",
       "max       64.000000      2.000000    250.000000    200.000000    240.000000   \n",
       "\n",
       "              ap_lo   cholesterol          gluc         smoke          alco  \\\n",
       "count  68983.000000  68983.000000  68983.000000  68983.000000  68983.000000   \n",
       "mean      81.332111      1.364496      1.225911      0.087891      0.053607   \n",
       "std        9.890964      0.678761      0.571868      0.283139      0.225243   \n",
       "min      -70.000000      1.000000      1.000000      0.000000      0.000000   \n",
       "25%       80.000000      1.000000      1.000000      0.000000      0.000000   \n",
       "50%       80.000000      1.000000      1.000000      0.000000      0.000000   \n",
       "75%       90.000000      1.000000      1.000000      0.000000      0.000000   \n",
       "max      190.000000      3.000000      3.000000      1.000000      1.000000   \n",
       "\n",
       "             active        cardio  \n",
       "count  68983.000000  68983.000000  \n",
       "mean       0.803270      0.494948  \n",
       "std        0.397529      0.499978  \n",
       "min        0.000000      0.000000  \n",
       "25%        1.000000      0.000000  \n",
       "50%        1.000000      0.000000  \n",
       "75%        1.000000      1.000000  \n",
       "max        1.000000      1.000000  "
      ]
     },
     "execution_count": 12,
     "metadata": {},
     "output_type": "execute_result"
    }
   ],
   "source": [
    "data.describe()"
   ]
  },
  {
   "cell_type": "code",
   "execution_count": 13,
   "id": "41574e12",
   "metadata": {
    "execution": {
     "iopub.execute_input": "2025-03-19T15:07:53.669595Z",
     "iopub.status.busy": "2025-03-19T15:07:53.669139Z",
     "iopub.status.idle": "2025-03-19T15:07:53.679897Z",
     "shell.execute_reply": "2025-03-19T15:07:53.678569Z"
    },
    "papermill": {
     "duration": 0.020705,
     "end_time": "2025-03-19T15:07:53.682013",
     "exception": false,
     "start_time": "2025-03-19T15:07:53.661308",
     "status": "completed"
    },
    "tags": []
   },
   "outputs": [
    {
     "data": {
      "text/plain": [
       "age            0\n",
       "gender         0\n",
       "height         0\n",
       "weight         0\n",
       "ap_hi          0\n",
       "ap_lo          0\n",
       "cholesterol    0\n",
       "gluc           0\n",
       "smoke          0\n",
       "alco           0\n",
       "active         0\n",
       "cardio         0\n",
       "dtype: int64"
      ]
     },
     "execution_count": 13,
     "metadata": {},
     "output_type": "execute_result"
    }
   ],
   "source": [
    "data.isna().sum()"
   ]
  },
  {
   "cell_type": "code",
   "execution_count": 14,
   "id": "1f206100",
   "metadata": {
    "execution": {
     "iopub.execute_input": "2025-03-19T15:07:53.697959Z",
     "iopub.status.busy": "2025-03-19T15:07:53.697501Z",
     "iopub.status.idle": "2025-03-19T15:07:53.709852Z",
     "shell.execute_reply": "2025-03-19T15:07:53.708688Z"
    },
    "papermill": {
     "duration": 0.022505,
     "end_time": "2025-03-19T15:07:53.711628",
     "exception": false,
     "start_time": "2025-03-19T15:07:53.689123",
     "status": "completed"
    },
    "tags": []
   },
   "outputs": [
    {
     "data": {
      "text/html": [
       "<div>\n",
       "<style scoped>\n",
       "    .dataframe tbody tr th:only-of-type {\n",
       "        vertical-align: middle;\n",
       "    }\n",
       "\n",
       "    .dataframe tbody tr th {\n",
       "        vertical-align: top;\n",
       "    }\n",
       "\n",
       "    .dataframe thead th {\n",
       "        text-align: right;\n",
       "    }\n",
       "</style>\n",
       "<table border=\"1\" class=\"dataframe\">\n",
       "  <thead>\n",
       "    <tr style=\"text-align: right;\">\n",
       "      <th></th>\n",
       "      <th>age</th>\n",
       "      <th>gender</th>\n",
       "      <th>height</th>\n",
       "      <th>weight</th>\n",
       "      <th>ap_hi</th>\n",
       "      <th>ap_lo</th>\n",
       "      <th>cholesterol</th>\n",
       "      <th>gluc</th>\n",
       "      <th>smoke</th>\n",
       "      <th>alco</th>\n",
       "      <th>active</th>\n",
       "      <th>cardio</th>\n",
       "    </tr>\n",
       "  </thead>\n",
       "  <tbody>\n",
       "    <tr>\n",
       "      <th>0</th>\n",
       "      <td>50</td>\n",
       "      <td>2</td>\n",
       "      <td>168</td>\n",
       "      <td>62</td>\n",
       "      <td>110</td>\n",
       "      <td>80</td>\n",
       "      <td>1</td>\n",
       "      <td>1</td>\n",
       "      <td>0</td>\n",
       "      <td>0</td>\n",
       "      <td>1</td>\n",
       "      <td>0</td>\n",
       "    </tr>\n",
       "    <tr>\n",
       "      <th>1</th>\n",
       "      <td>55</td>\n",
       "      <td>1</td>\n",
       "      <td>156</td>\n",
       "      <td>85</td>\n",
       "      <td>140</td>\n",
       "      <td>90</td>\n",
       "      <td>3</td>\n",
       "      <td>1</td>\n",
       "      <td>0</td>\n",
       "      <td>0</td>\n",
       "      <td>1</td>\n",
       "      <td>1</td>\n",
       "    </tr>\n",
       "  </tbody>\n",
       "</table>\n",
       "</div>"
      ],
      "text/plain": [
       "   age  gender  height  weight  ap_hi  ap_lo  cholesterol  gluc  smoke  alco  \\\n",
       "0   50       2     168      62    110     80            1     1      0     0   \n",
       "1   55       1     156      85    140     90            3     1      0     0   \n",
       "\n",
       "   active  cardio  \n",
       "0       1       0  \n",
       "1       1       1  "
      ]
     },
     "execution_count": 14,
     "metadata": {},
     "output_type": "execute_result"
    }
   ],
   "source": [
    "data.head(2)"
   ]
  },
  {
   "cell_type": "code",
   "execution_count": 15,
   "id": "126bc351",
   "metadata": {
    "execution": {
     "iopub.execute_input": "2025-03-19T15:07:53.727250Z",
     "iopub.status.busy": "2025-03-19T15:07:53.726810Z",
     "iopub.status.idle": "2025-03-19T15:07:54.230227Z",
     "shell.execute_reply": "2025-03-19T15:07:54.229017Z"
    },
    "papermill": {
     "duration": 0.51341,
     "end_time": "2025-03-19T15:07:54.232121",
     "exception": false,
     "start_time": "2025-03-19T15:07:53.718711",
     "status": "completed"
    },
    "tags": []
   },
   "outputs": [
    {
     "data": {
      "text/plain": [
       "<Axes: >"
      ]
     },
     "execution_count": 15,
     "metadata": {},
     "output_type": "execute_result"
    },
    {
     "data": {
      "image/png": "[encoded data removed]",
      "text/plain": [
       "<Figure size 640x480 with 2 Axes>"
      ]
     },
     "metadata": {},
     "output_type": "display_data"
    }
   ],
   "source": [
    "sns.heatmap(data.corr())"
   ]
  },
  {
   "cell_type": "code",
   "execution_count": 16,
   "id": "69a4d041",
   "metadata": {
    "execution": {
     "iopub.execute_input": "2025-03-19T15:07:54.249793Z",
     "iopub.status.busy": "2025-03-19T15:07:54.249284Z",
     "iopub.status.idle": "2025-03-19T15:07:54.304315Z",
     "shell.execute_reply": "2025-03-19T15:07:54.303148Z"
    },
    "papermill": {
     "duration": 0.065894,
     "end_time": "2025-03-19T15:07:54.306245",
     "exception": false,
     "start_time": "2025-03-19T15:07:54.240351",
     "status": "completed"
    },
    "tags": []
   },
   "outputs": [
    {
     "data": {
      "text/html": [
       "<div>\n",
       "<style scoped>\n",
       "    .dataframe tbody tr th:only-of-type {\n",
       "        vertical-align: middle;\n",
       "    }\n",
       "\n",
       "    .dataframe tbody tr th {\n",
       "        vertical-align: top;\n",
       "    }\n",
       "\n",
       "    .dataframe thead th {\n",
       "        text-align: right;\n",
       "    }\n",
       "</style>\n",
       "<table border=\"1\" class=\"dataframe\">\n",
       "  <thead>\n",
       "    <tr style=\"text-align: right;\">\n",
       "      <th></th>\n",
       "      <th>age</th>\n",
       "      <th>gender</th>\n",
       "      <th>height</th>\n",
       "      <th>weight</th>\n",
       "      <th>ap_hi</th>\n",
       "      <th>ap_lo</th>\n",
       "      <th>cholesterol</th>\n",
       "      <th>gluc</th>\n",
       "      <th>smoke</th>\n",
       "      <th>alco</th>\n",
       "      <th>active</th>\n",
       "      <th>cardio</th>\n",
       "    </tr>\n",
       "  </thead>\n",
       "  <tbody>\n",
       "    <tr>\n",
       "      <th>age</th>\n",
       "      <td>1.000000</td>\n",
       "      <td>-0.023132</td>\n",
       "      <td>-0.080736</td>\n",
       "      <td>0.055070</td>\n",
       "      <td>0.195526</td>\n",
       "      <td>0.150283</td>\n",
       "      <td>0.154936</td>\n",
       "      <td>0.098818</td>\n",
       "      <td>-0.047790</td>\n",
       "      <td>-0.029116</td>\n",
       "      <td>-0.010461</td>\n",
       "      <td>0.239566</td>\n",
       "    </tr>\n",
       "    <tr>\n",
       "      <th>gender</th>\n",
       "      <td>-0.023132</td>\n",
       "      <td>1.000000</td>\n",
       "      <td>0.498026</td>\n",
       "      <td>0.155833</td>\n",
       "      <td>0.056949</td>\n",
       "      <td>0.064708</td>\n",
       "      <td>-0.036813</td>\n",
       "      <td>-0.021055</td>\n",
       "      <td>0.338627</td>\n",
       "      <td>0.170974</td>\n",
       "      <td>0.005487</td>\n",
       "      <td>0.007456</td>\n",
       "    </tr>\n",
       "    <tr>\n",
       "      <th>height</th>\n",
       "      <td>-0.080736</td>\n",
       "      <td>0.498026</td>\n",
       "      <td>1.000000</td>\n",
       "      <td>0.291564</td>\n",
       "      <td>0.017727</td>\n",
       "      <td>0.035771</td>\n",
       "      <td>-0.050458</td>\n",
       "      <td>-0.018512</td>\n",
       "      <td>0.187974</td>\n",
       "      <td>0.094475</td>\n",
       "      <td>-0.007302</td>\n",
       "      <td>-0.010400</td>\n",
       "    </tr>\n",
       "    <tr>\n",
       "      <th>weight</th>\n",
       "      <td>0.055070</td>\n",
       "      <td>0.155833</td>\n",
       "      <td>0.291564</td>\n",
       "      <td>1.000000</td>\n",
       "      <td>0.253286</td>\n",
       "      <td>0.244890</td>\n",
       "      <td>0.140564</td>\n",
       "      <td>0.106860</td>\n",
       "      <td>0.066708</td>\n",
       "      <td>0.067866</td>\n",
       "      <td>-0.017901</td>\n",
       "      <td>0.179876</td>\n",
       "    </tr>\n",
       "    <tr>\n",
       "      <th>ap_hi</th>\n",
       "      <td>0.195526</td>\n",
       "      <td>0.056949</td>\n",
       "      <td>0.017727</td>\n",
       "      <td>0.253286</td>\n",
       "      <td>1.000000</td>\n",
       "      <td>0.640397</td>\n",
       "      <td>0.184618</td>\n",
       "      <td>0.087632</td>\n",
       "      <td>0.028228</td>\n",
       "      <td>0.031559</td>\n",
       "      <td>0.000949</td>\n",
       "      <td>0.397351</td>\n",
       "    </tr>\n",
       "    <tr>\n",
       "      <th>ap_lo</th>\n",
       "      <td>0.150283</td>\n",
       "      <td>0.064708</td>\n",
       "      <td>0.035771</td>\n",
       "      <td>0.244890</td>\n",
       "      <td>0.640397</td>\n",
       "      <td>1.000000</td>\n",
       "      <td>0.155268</td>\n",
       "      <td>0.075991</td>\n",
       "      <td>0.024611</td>\n",
       "      <td>0.042912</td>\n",
       "      <td>-0.001050</td>\n",
       "      <td>0.328110</td>\n",
       "    </tr>\n",
       "    <tr>\n",
       "      <th>cholesterol</th>\n",
       "      <td>0.154936</td>\n",
       "      <td>-0.036813</td>\n",
       "      <td>-0.050458</td>\n",
       "      <td>0.140564</td>\n",
       "      <td>0.184618</td>\n",
       "      <td>0.155268</td>\n",
       "      <td>1.000000</td>\n",
       "      <td>0.450800</td>\n",
       "      <td>0.009811</td>\n",
       "      <td>0.035566</td>\n",
       "      <td>0.008949</td>\n",
       "      <td>0.221358</td>\n",
       "    </tr>\n",
       "    <tr>\n",
       "      <th>gluc</th>\n",
       "      <td>0.098818</td>\n",
       "      <td>-0.021055</td>\n",
       "      <td>-0.018512</td>\n",
       "      <td>0.106860</td>\n",
       "      <td>0.087632</td>\n",
       "      <td>0.075991</td>\n",
       "      <td>0.450800</td>\n",
       "      <td>1.000000</td>\n",
       "      <td>-0.005703</td>\n",
       "      <td>0.011207</td>\n",
       "      <td>-0.007726</td>\n",
       "      <td>0.089727</td>\n",
       "    </tr>\n",
       "    <tr>\n",
       "      <th>smoke</th>\n",
       "      <td>-0.047790</td>\n",
       "      <td>0.338627</td>\n",
       "      <td>0.187974</td>\n",
       "      <td>0.066708</td>\n",
       "      <td>0.028228</td>\n",
       "      <td>0.024611</td>\n",
       "      <td>0.009811</td>\n",
       "      <td>-0.005703</td>\n",
       "      <td>1.000000</td>\n",
       "      <td>0.340274</td>\n",
       "      <td>0.025729</td>\n",
       "      <td>-0.016371</td>\n",
       "    </tr>\n",
       "    <tr>\n",
       "      <th>alco</th>\n",
       "      <td>-0.029116</td>\n",
       "      <td>0.170974</td>\n",
       "      <td>0.094475</td>\n",
       "      <td>0.067866</td>\n",
       "      <td>0.031559</td>\n",
       "      <td>0.042912</td>\n",
       "      <td>0.035566</td>\n",
       "      <td>0.011207</td>\n",
       "      <td>0.340274</td>\n",
       "      <td>1.000000</td>\n",
       "      <td>0.025338</td>\n",
       "      <td>-0.008151</td>\n",
       "    </tr>\n",
       "    <tr>\n",
       "      <th>active</th>\n",
       "      <td>-0.010461</td>\n",
       "      <td>0.005487</td>\n",
       "      <td>-0.007302</td>\n",
       "      <td>-0.017901</td>\n",
       "      <td>0.000949</td>\n",
       "      <td>-0.001050</td>\n",
       "      <td>0.008949</td>\n",
       "      <td>-0.007726</td>\n",
       "      <td>0.025729</td>\n",
       "      <td>0.025338</td>\n",
       "      <td>1.000000</td>\n",
       "      <td>-0.037275</td>\n",
       "    </tr>\n",
       "    <tr>\n",
       "      <th>cardio</th>\n",
       "      <td>0.239566</td>\n",
       "      <td>0.007456</td>\n",
       "      <td>-0.010400</td>\n",
       "      <td>0.179876</td>\n",
       "      <td>0.397351</td>\n",
       "      <td>0.328110</td>\n",
       "      <td>0.221358</td>\n",
       "      <td>0.089727</td>\n",
       "      <td>-0.016371</td>\n",
       "      <td>-0.008151</td>\n",
       "      <td>-0.037275</td>\n",
       "      <td>1.000000</td>\n",
       "    </tr>\n",
       "  </tbody>\n",
       "</table>\n",
       "</div>"
      ],
      "text/plain": [
       "                  age    gender    height    weight     ap_hi     ap_lo  \\\n",
       "age          1.000000 -0.023132 -0.080736  0.055070  0.195526  0.150283   \n",
       "gender      -0.023132  1.000000  0.498026  0.155833  0.056949  0.064708   \n",
       "height      -0.080736  0.498026  1.000000  0.291564  0.017727  0.035771   \n",
       "weight       0.055070  0.155833  0.291564  1.000000  0.253286  0.244890   \n",
       "ap_hi        0.195526  0.056949  0.017727  0.253286  1.000000  0.640397   \n",
       "ap_lo        0.150283  0.064708  0.035771  0.244890  0.640397  1.000000   \n",
       "cholesterol  0.154936 -0.036813 -0.050458  0.140564  0.184618  0.155268   \n",
       "gluc         0.098818 -0.021055 -0.018512  0.106860  0.087632  0.075991   \n",
       "smoke       -0.047790  0.338627  0.187974  0.066708  0.028228  0.024611   \n",
       "alco        -0.029116  0.170974  0.094475  0.067866  0.031559  0.042912   \n",
       "active      -0.010461  0.005487 -0.007302 -0.017901  0.000949 -0.001050   \n",
       "cardio       0.239566  0.007456 -0.010400  0.179876  0.397351  0.328110   \n",
       "\n",
       "             cholesterol      gluc     smoke      alco    active    cardio  \n",
       "age             0.154936  0.098818 -0.047790 -0.029116 -0.010461  0.239566  \n",
       "gender         -0.036813 -0.021055  0.338627  0.170974  0.005487  0.007456  \n",
       "height         -0.050458 -0.018512  0.187974  0.094475 -0.007302 -0.010400  \n",
       "weight          0.140564  0.106860  0.066708  0.067866 -0.017901  0.179876  \n",
       "ap_hi           0.184618  0.087632  0.028228  0.031559  0.000949  0.397351  \n",
       "ap_lo           0.155268  0.075991  0.024611  0.042912 -0.001050  0.328110  \n",
       "cholesterol     1.000000  0.450800  0.009811  0.035566  0.008949  0.221358  \n",
       "gluc            0.450800  1.000000 -0.005703  0.011207 -0.007726  0.089727  \n",
       "smoke           0.009811 -0.005703  1.000000  0.340274  0.025729 -0.016371  \n",
       "alco            0.035566  0.011207  0.340274  1.000000  0.025338 -0.008151  \n",
       "active          0.008949 -0.007726  0.025729  0.025338  1.000000 -0.037275  \n",
       "cardio          0.221358  0.089727 -0.016371 -0.008151 -0.037275  1.000000  "
      ]
     },
     "execution_count": 16,
     "metadata": {},
     "output_type": "execute_result"
    }
   ],
   "source": [
    "data.corr()"
   ]
  },
  {
   "cell_type": "markdown",
   "id": "ba85799b",
   "metadata": {
    "papermill": {
     "duration": 0.007717,
     "end_time": "2025-03-19T15:07:54.322660",
     "exception": false,
     "start_time": "2025-03-19T15:07:54.314943",
     "status": "completed"
    },
    "tags": []
   },
   "source": [
    "# Splitting data for training and testing"
   ]
  },
  {
   "cell_type": "code",
   "execution_count": 17,
   "id": "b5791f1f",
   "metadata": {
    "execution": {
     "iopub.execute_input": "2025-03-19T15:07:54.340110Z",
     "iopub.status.busy": "2025-03-19T15:07:54.339654Z",
     "iopub.status.idle": "2025-03-19T15:07:54.348683Z",
     "shell.execute_reply": "2025-03-19T15:07:54.347466Z"
    },
    "papermill": {
     "duration": 0.020147,
     "end_time": "2025-03-19T15:07:54.350758",
     "exception": false,
     "start_time": "2025-03-19T15:07:54.330611",
     "status": "completed"
    },
    "tags": []
   },
   "outputs": [],
   "source": [
    "X=data.drop('cardio',axis=1)\n",
    "y=data['cardio']"
   ]
  },
  {
   "cell_type": "code",
   "execution_count": 18,
   "id": "01956349",
   "metadata": {
    "execution": {
     "iopub.execute_input": "2025-03-19T15:07:54.368706Z",
     "iopub.status.busy": "2025-03-19T15:07:54.368198Z",
     "iopub.status.idle": "2025-03-19T15:07:54.739223Z",
     "shell.execute_reply": "2025-03-19T15:07:54.737508Z"
    },
    "papermill": {
     "duration": 0.383021,
     "end_time": "2025-03-19T15:07:54.742018",
     "exception": false,
     "start_time": "2025-03-19T15:07:54.358997",
     "status": "completed"
    },
    "tags": []
   },
   "outputs": [],
   "source": [
    "from sklearn.model_selection import train_test_split\n",
    "\n",
    "X_train, X_test, y_train, y_test = train_test_split(X, y, test_size=0.25, random_state=42)"
   ]
  },
  {
   "cell_type": "code",
   "execution_count": 19,
   "id": "ab692615",
   "metadata": {
    "execution": {
     "iopub.execute_input": "2025-03-19T15:07:54.771885Z",
     "iopub.status.busy": "2025-03-19T15:07:54.771258Z",
     "iopub.status.idle": "2025-03-19T15:08:12.324437Z",
     "shell.execute_reply": "2025-03-19T15:08:12.322537Z"
    },
    "papermill": {
     "duration": 17.572169,
     "end_time": "2025-03-19T15:08:12.326590",
     "exception": false,
     "start_time": "2025-03-19T15:07:54.754421",
     "status": "completed"
    },
    "tags": []
   },
   "outputs": [
    {
     "name": "stdout",
     "output_type": "stream",
     "text": [
      "Fitting 5 folds for each of 2 candidates, totalling 10 fits\n",
      "Best parameters found: {'max_depth': 10, 'min_samples_leaf': 2, 'min_samples_split': 2, 'n_estimators': 100}\n",
      "Best cross-validation score: 0.7338073992865055\n"
     ]
    }
   ],
   "source": [
    "from sklearn.model_selection import GridSearchCV\n",
    "from sklearn.ensemble import RandomForestClassifier\n",
    "\n",
    "param_grid = {\n",
    "    'n_estimators': [100],  # Number of trees in the forest\n",
    "    'max_depth': [10], # Maximum depth of the tree\n",
    "    'min_samples_split': [2],  # Minimum number of samples required to split a node\n",
    "    'min_samples_leaf': [1, 2],  # Minimum number of samples required at a leaf node\n",
    "}\n",
    "\n",
    "grid_search = GridSearchCV(estimator=RandomForestClassifier(), param_grid=param_grid, cv=5, n_jobs=-1, verbose=2)\n",
    "\n",
    "grid_search.fit(X_train, y_train)\n",
    "\n",
    "# Get the best parameters and the best score\n",
    "print(f\"Best parameters found: {grid_search.best_params_}\")\n",
    "print(f\"Best cross-validation score: {grid_search.best_score_}\")\n"
   ]
  },
  {
   "cell_type": "code",
   "execution_count": 20,
   "id": "c4ffd9c2",
   "metadata": {
    "execution": {
     "iopub.execute_input": "2025-03-19T15:08:12.344968Z",
     "iopub.status.busy": "2025-03-19T15:08:12.344598Z",
     "iopub.status.idle": "2025-03-19T15:08:12.559224Z",
     "shell.execute_reply": "2025-03-19T15:08:12.558109Z"
    },
    "papermill": {
     "duration": 0.226416,
     "end_time": "2025-03-19T15:08:12.561449",
     "exception": false,
     "start_time": "2025-03-19T15:08:12.335033",
     "status": "completed"
    },
    "tags": []
   },
   "outputs": [],
   "source": [
    "y_pred=grid_search.predict(X_test)\n"
   ]
  },
  {
   "cell_type": "code",
   "execution_count": 21,
   "id": "630dfbe2",
   "metadata": {
    "execution": {
     "iopub.execute_input": "2025-03-19T15:08:12.580502Z",
     "iopub.status.busy": "2025-03-19T15:08:12.580089Z",
     "iopub.status.idle": "2025-03-19T15:08:12.588785Z",
     "shell.execute_reply": "2025-03-19T15:08:12.587294Z"
    },
    "papermill": {
     "duration": 0.020442,
     "end_time": "2025-03-19T15:08:12.590809",
     "exception": false,
     "start_time": "2025-03-19T15:08:12.570367",
     "status": "completed"
    },
    "tags": []
   },
   "outputs": [
    {
     "name": "stdout",
     "output_type": "stream",
     "text": [
      "Accuracy: 0.7343731879856199\n"
     ]
    }
   ],
   "source": [
    "from sklearn.metrics import accuracy_score\n",
    "\n",
    "accuracy = accuracy_score(y_test, y_pred)\n",
    "print(\"Accuracy:\", accuracy)"
   ]
  },
  {
   "cell_type": "code",
   "execution_count": 22,
   "id": "63f754a4",
   "metadata": {
    "execution": {
     "iopub.execute_input": "2025-03-19T15:08:12.609564Z",
     "iopub.status.busy": "2025-03-19T15:08:12.609151Z",
     "iopub.status.idle": "2025-03-19T15:08:12.620017Z",
     "shell.execute_reply": "2025-03-19T15:08:12.618750Z"
    },
    "papermill": {
     "duration": 0.022165,
     "end_time": "2025-03-19T15:08:12.621857",
     "exception": false,
     "start_time": "2025-03-19T15:08:12.599692",
     "status": "completed"
    },
    "tags": []
   },
   "outputs": [
    {
     "name": "stdout",
     "output_type": "stream",
     "text": [
      "Confusion Matrix:\n",
      " [[6844 1855]\n",
      " [2726 5821]]\n"
     ]
    }
   ],
   "source": [
    "from sklearn.metrics import confusion_matrix\n",
    "\n",
    "cm = confusion_matrix(y_test, y_pred)\n",
    "print(\"Confusion Matrix:\\n\", cm)"
   ]
  },
  {
   "cell_type": "code",
   "execution_count": 23,
   "id": "9e65d732",
   "metadata": {
    "execution": {
     "iopub.execute_input": "2025-03-19T15:08:12.640634Z",
     "iopub.status.busy": "2025-03-19T15:08:12.640235Z",
     "iopub.status.idle": "2025-03-19T15:08:12.674017Z",
     "shell.execute_reply": "2025-03-19T15:08:12.672674Z"
    },
    "papermill": {
     "duration": 0.045344,
     "end_time": "2025-03-19T15:08:12.675859",
     "exception": false,
     "start_time": "2025-03-19T15:08:12.630515",
     "status": "completed"
    },
    "tags": []
   },
   "outputs": [
    {
     "name": "stdout",
     "output_type": "stream",
     "text": [
      "Precision: 0.7367445955121827\n",
      "Recall: 0.733907389787376\n",
      "F1-Score: 0.7334352432861351\n"
     ]
    }
   ],
   "source": [
    "from sklearn.metrics import precision_score, recall_score, f1_score\n",
    "\n",
    "precision = precision_score(y_test, y_pred, average='macro')  \n",
    "recall = recall_score(y_test, y_pred, average='macro')        \n",
    "f1 = f1_score(y_test, y_pred, average='macro')                \n",
    "\n",
    "print(f\"Precision: {precision}\")\n",
    "print(f\"Recall: {recall}\")\n",
    "print(f\"F1-Score: {f1}\")"
   ]
  },
  {
   "cell_type": "code",
   "execution_count": null,
   "id": "f63b221a",
   "metadata": {
    "papermill": {
     "duration": 0.008167,
     "end_time": "2025-03-19T15:08:12.692908",
     "exception": false,
     "start_time": "2025-03-19T15:08:12.684741",
     "status": "completed"
    },
    "tags": []
   },
   "outputs": [],
   "source": []
  }
 ],
 "metadata": {
  "kaggle": {
   "accelerator": "none",
   "dataSources": [
    {
     "datasetId": 107706,
     "sourceId": 256873,
     "sourceType": "datasetVersion"
    }
   ],
   "dockerImageVersionId": 30918,
   "isGpuEnabled": false,
   "isInternetEnabled": true,
   "language": "python",
   "sourceType": "notebook"
  },
  "kernelspec": {
   "display_name": "Python 3",
   "language": "python",
   "name": "python3"
  },
  "language_info": {
   "codemirror_mode": {
    "name": "ipython",
    "version": 3
   },
   "file_extension": ".py",
   "mimetype": "text/x-python",
   "name": "python",
   "nbconvert_exporter": "python",
   "pygments_lexer": "ipython3",
   "version": "3.10.12"
  },
  "papermill": {
   "default_parameters": {},
   "duration": 26.656442,
   "end_time": "2025-03-19T15:08:13.825725",
   "environment_variables": {},
   "exception": null,
   "input_path": "__notebook__.ipynb",
   "output_path": "__notebook__.ipynb",
   "parameters": {},
   "start_time": "2025-03-19T15:07:47.169283",
   "version": "2.6.0"
  }
 },
 "nbformat": 4,
 "nbformat_minor": 5
}
